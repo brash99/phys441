{
 "cells": [
  {
   "cell_type": "code",
   "execution_count": 1,
   "metadata": {
    "ExecuteTime": {
     "end_time": "2023-09-29T19:56:23.534019Z",
     "start_time": "2023-09-29T19:56:22.804868Z"
    }
   },
   "outputs": [],
   "source": [
    "from array import array\n",
    "import numpy as np\n",
    "import math"
   ]
  },
  {
   "cell_type": "markdown",
   "source": [
    "# Projectile Motion with Air Resistance\n",
    "\n",
    "Projectile motion in two dimensions is governed by a fairly simple set of coupled differential equations:\n",
    "\n",
    "The acceleration components are defined as:\n",
    "\n",
    "$$ a_x(t) = \\frac{F_x(t)}{m} = \\frac{d v_x(t)}{dt}$$\n",
    "$$ a_y(t) = \\frac{F_y(t)}{m} = \\frac{d v_y(t)}{dt}$$\n",
    "\n",
    "The velocity components are defined as:\n",
    "\n",
    "$$ v_x(t) = \\frac{d x(t)}{dt}$$\n",
    "$$ v_y(t) = \\frac{d y(t)}{dt}$$\n",
    "\n",
    "In the previous example, with no air resistance, we saw that for these differential equations, the midpoint method gave the most accurate numerical answers, for a given timestep.  We will use the midpoint method again here, but we will need to modify the acceleration components to include the effects of air resistance.  The force of air resistance is given by:\n",
    "\n",
    "$$ F_{air} = -\\frac{1}{2} C_d \\rho A v^2 $$\n",
    "\n",
    "where $C_d$ is the drag coefficient, $\\rho$ is the density of air, $A$ is the cross-sectional area of the projectile, and $v$ is the magnitude of the velocity of the projectile.  The direction of the force is opposite the direction of the velocity.  The acceleration components are then:\n",
    "\n",
    "$$ a_x(t) = \\frac{F_x(t)}{m} = \\frac{d v_x(t)}{dt} = -\\frac{1}{2} C_d \\rho A \\frac{v_x(t)}{m} v(t)$$\n",
    "$$ a_y(t) = \\frac{F_y(t)}{m} = \\frac{d v_y(t)}{dt} = -\\frac{1}{2} C_d \\rho A \\frac{v_y(t)}{m} v(t) - g$$\n",
    "\n",
    "where $g$ is the acceleration due to gravity.  We can simplify these equations by defining a constant:\n",
    "\n",
    "$$ k = -\\frac{1}{2} C_d \\rho A \\frac{1}{m}$$\n",
    "\n",
    "and then the acceleration components become:\n",
    "\n",
    "$$ a_x(t) = \\frac{d v_x(t)}{dt} = k v(t) v_x(t)$$\n",
    "$$ a_y(t) = \\frac{d v_y(t)}{dt} = k v(t) v_y(t) - g$$\n",
    "\n",
    "We can then use the midpoint method to solve these differential equations.\n",
    "\n",
    "As before, we will always need to know a set of initial conditions:  the initial velocity in the x- and y-directions, and the initial position in the x- and y-directions:  $v_x(0) = v_{x0}, v_y(0) = v_{y0}, x(0) = x_0, y(0) = y_0$"
   ],
   "metadata": {
    "collapsed": false
   }
  },
  {
   "cell_type": "code",
   "execution_count": 6,
   "metadata": {
    "ExecuteTime": {
     "end_time": "2023-09-29T19:59:02.044761Z",
     "start_time": "2023-09-29T19:59:02.027217Z"
    }
   },
   "outputs": [
    {
     "name": "stdout",
     "output_type": "stream",
     "text": [
      "Air resistance constant = -0.003819\n"
     ]
    }
   ],
   "source": [
    "# Initial Conditions\n",
    "speed = 55.8\n",
    "theta_array = np.linspace(35.0,45.0,101)\n",
    "y1 = 0.0\n",
    "\n",
    "\n",
    "# Other constants - golf ball - D = 0.0427m, m = 0.04593kg\n",
    "Cd = 0.20 # drag coefficient\n",
    "area = 0.001432 # cross sectional area of projectile\n",
    "grav = 9.81 # gravitional acceleration\n",
    "mass = 0.04593 # mass in kg\n",
    "rho = 1.225 # density of air (kg/m^3)\n",
    "air_const = -0.5*Cd*rho*area/mass\n",
    "Pi = math.pi\n",
    "\n",
    "print(\"Air resistance constant = %f\" % air_const)\n",
    "\n",
    "prange = []\n",
    "prangeTheory = []"
   ]
  },
  {
   "cell_type": "code",
   "execution_count": 3,
   "metadata": {
    "ExecuteTime": {
     "end_time": "2023-09-29T19:56:38.895390Z",
     "start_time": "2023-09-29T19:56:26.579095Z"
    }
   },
   "outputs": [],
   "source": [
    "for theta in theta_array:\n",
    "    r1 = array('d')\n",
    "    v1 = array('d')\n",
    "    r = array('d')\n",
    "    v = array('d')\n",
    "    accel = array('d')\n",
    "\n",
    "    r1.append(0)    \n",
    "    r1.append(y1)\n",
    "    v1.append(speed*math.cos(theta*Pi/180.0))\n",
    "    v1.append(speed*math.sin(theta*Pi/180.0))\n",
    "\n",
    "    r.append(r1[0])\n",
    "    r.append(r1[1])\n",
    "    v.append(v1[0])\n",
    "    v.append(v1[1])\n",
    "    accel.append(0)\n",
    "    accel.append(0)\n",
    "    \n",
    "    # Setup arrays for Euler and Euler-Cromer Methods\n",
    "    re = array('d')\n",
    "    ve = array('d')\n",
    "    accele = array('d')\n",
    "\n",
    "    re.append(r1[0])\n",
    "    re.append(r1[1])\n",
    "    ve.append(v1[0])\n",
    "    ve.append(v1[1])\n",
    "    accele.append(0)\n",
    "    accele.append(0)\n",
    "\n",
    "    rec = array('d')\n",
    "    vec = array('d')\n",
    "    accelec = array('d')\n",
    "\n",
    "    rec.append(r1[0])\n",
    "    rec.append(r1[1])\n",
    "    vec.append(v1[0])\n",
    "    vec.append(v1[1])\n",
    "    accelec.append(0)\n",
    "    accelec.append(0)\n",
    "    \n",
    "    tau = 0.0002 # timestep in seconds\n",
    "    maxStep = 1000000 # maximum number of steps\n",
    "\n",
    "    xplot = array('d')\n",
    "    yplot = array('d')\n",
    "    xplote = array('d')\n",
    "    yplote = array('d')\n",
    "    xplotec = array('d')\n",
    "    yplotec = array('d')\n",
    "    xNoAir = array('d')\n",
    "    yNoAir = array('d')\n",
    "    time = array('d')\n",
    "    timee = array('d')\n",
    "    timeec = array('d')\n",
    "    timeNoAir = array('d')\n",
    "    \n",
    "    endtime = 0\n",
    "    nelements = 0\n",
    "    for iStep in range(1,maxStep+1):\n",
    "    \n",
    "        t = (iStep-1)*tau\n",
    "        \n",
    "        xplot.append(r[0])\n",
    "        yplot.append(r[1])\n",
    "        xplote.append(re[0])\n",
    "        yplote.append(re[1])\n",
    "        xplotec.append(rec[0])\n",
    "        yplotec.append(rec[1])\n",
    "        xNoAir.append(r1[0]+v1[0]*t)\n",
    "        yNoAir.append(r1[1]+v1[1]*t-0.5*grav*t*t)\n",
    "    \n",
    "        timeNoAir.append(t)\n",
    "        time.append(t)\n",
    "        timee.append(t)\n",
    "        timeec.append(t)\n",
    "    \n",
    "        # Euler Method\n",
    "        normVe = math.sqrt(ve[0]*ve[0]+ve[1]*ve[1])\n",
    "        accele[0]=air_const*normVe*ve[0]\n",
    "        accele[1]=air_const*normVe*ve[1]-grav\n",
    "        re[0] = re[0] + tau*ve[0]\n",
    "        re[1] = re[1] + tau*ve[1]\n",
    "        ve[0] = ve[0] + tau*accele[0]\n",
    "        ve[1] = ve[1] + tau*accele[1]\n",
    "    \n",
    "        # Euler-Cromer Method\n",
    "        normVec = math.sqrt(vec[0]*vec[0]+vec[1]*vec[1])\n",
    "        accelec[0]=air_const*normVec*vec[0]\n",
    "        accelec[1]=air_const*normVec*vec[1]-grav\n",
    "        vec[0] = vec[0] + tau*accelec[0]\n",
    "        vec[1] = vec[1] + tau*accelec[1]    \n",
    "        rec[0] = rec[0] + tau*vec[0]\n",
    "        rec[1] = rec[1] + tau*vec[1]\n",
    "    \n",
    "        # MidPoint Method\n",
    "        normV = math.sqrt(v[0]*v[0]+v[1]*v[1])\n",
    "        accel[0]=air_const*normV*v[0]\n",
    "        accel[1]=air_const*normV*v[1]-grav\n",
    "        vxnew = v[0] + tau*accel[0]\n",
    "        vynew = v[1] + tau*accel[1]\n",
    "        r[0] = r[0] + tau*(v[0] + vxnew)/2.0\n",
    "        r[1] = r[1] + tau*(v[1] + vynew)/2.0\n",
    "        v[0] = vxnew\n",
    "        v[1] = vynew    \n",
    "    \n",
    "        #print (\"x = %f     vx = %f    ax = %f\" %(r[0],v[0],accel[0]))\n",
    "        #print (\"y = %f     vy = %f    ay = %f\" %(r[1],v[1],accel[1]))\n",
    "    \n",
    "        if (r[1] < 0 and v[1] < 0):\n",
    "            xplot.append(r[0])\n",
    "            yplot.append(r[1])\n",
    "            xplote.append(re[0])\n",
    "            yplote.append(re[1])\n",
    "            xplotec.append(rec[0])\n",
    "            yplotec.append(rec[1])\n",
    "            time.append(tau*iStep)\n",
    "            timee.append(tau*iStep)\n",
    "            timeec.append(tau*iStep)\n",
    "            endtime = tau*iStep\n",
    "            nelements = iStep\n",
    "            break\n",
    "        \n",
    "    #print (\"Maximum range is %f meters.\" % r[0])\n",
    "    #print (\"Theory maximum range is %f meters.\" % (speed*speed/grav*math.sin(2.0*theta*Pi/180.0)))\n",
    "    #print (\" \")\n",
    "    prange.append(r[0])\n",
    "    prangeTheory.append(speed*speed/grav*math.sin(2.0*theta*Pi/180.0))\n",
    "\n",
    "    #print (\"Time of flight is %f seconds.\" % endtime)\n",
    "    #print (\"Theory time of flight is %f seconds.\" % (2.0*speed/grav*math.sin(theta*Pi/180.0)))\n",
    "    #print (\" \")\n",
    "\n",
    "    max_y = np.amax(yNoAir)+1\n",
    "    max_x = np.amax(xNoAir)+1\n",
    "    max_t = np.amax(time)+1\n",
    "\n",
    "    #print (\"Max y = %f\" % max_y)\n",
    "    #print (\"Theory Max y = %f\" % (speed*speed/(2.0*grav)*math.pow(math.sin(theta*Pi/180.0),2)))\n",
    "    #print (\" \")\n",
    "\n",
    "\n",
    "    #print (\"Number of elements = %d\" % nelements)"
   ]
  },
  {
   "cell_type": "code",
   "execution_count": 4,
   "outputs": [
    {
     "name": "stdout",
     "output_type": "stream",
     "text": [
      "Maximum range is 174.987946 meters at 40.400000 degrees.\n"
     ]
    },
    {
     "data": {
      "text/plain": "<Figure size 640x480 with 1 Axes>",
      "image/png": "[encoded data removed]"
     },
     "metadata": {},
     "output_type": "display_data"
    }
   ],
   "source": [
    "import matplotlib.pyplot as plt\n",
    "plt.plot(theta_array,prange,'r--',label='Midpoint Method')\n",
    "#plt.plot(theta_array,prangeTheory,'b-',label='Theory')\n",
    "plt.xlabel('Theta (degrees)')\n",
    "plt.ylabel('Range (meters)')\n",
    "plt.title('Range vs. Theta')\n",
    "plt.legend()\n",
    "\n",
    "idx = np.argmax(prange)\n",
    "print (\"Maximum range is %f meters at %f degrees.\" % (prange[idx],theta_array[idx]))\n"
   ],
   "metadata": {
    "collapsed": false,
    "ExecuteTime": {
     "end_time": "2023-09-29T19:56:40.017269Z",
     "start_time": "2023-09-29T19:56:38.897288Z"
    }
   }
  },
  {
   "cell_type": "code",
   "execution_count": 5,
   "metadata": {
    "ExecuteTime": {
     "end_time": "2023-09-29T19:56:53.013440Z",
     "start_time": "2023-09-29T19:56:52.900609Z"
    }
   },
   "outputs": [
    {
     "data": {
      "text/plain": "[<matplotlib.lines.Line2D at 0x111381410>]"
     },
     "execution_count": 5,
     "metadata": {},
     "output_type": "execute_result"
    },
    {
     "data": {
      "text/plain": "<Figure size 640x480 with 1 Axes>",
      "image/png": "[encoded data removed]"
     },
     "metadata": {},
     "output_type": "display_data"
    }
   ],
   "source": [
    "plt.plot(xplot,yplot,'r--',label='Midpoint Method')\n",
    "plt.plot(xplote,yplote,'b-',label='Euler Method')\n",
    "plt.plot(xplotec,yplotec,'g-',label='Euler-Cromer Method')\n",
    "plt.plot(xNoAir,yNoAir,'k-',label='No Air Resistance')"
   ]
  },
  {
   "cell_type": "code",
   "execution_count": 5,
   "metadata": {
    "ExecuteTime": {
     "end_time": "2023-09-29T19:57:11.891140Z",
     "start_time": "2023-09-29T19:57:11.876181Z"
    }
   },
   "outputs": [],
   "source": []
  },
  {
   "cell_type": "code",
   "execution_count": 5,
   "metadata": {
    "ExecuteTime": {
     "end_time": "2023-09-29T19:57:12.345772Z",
     "start_time": "2023-09-29T19:57:12.329274Z"
    }
   },
   "outputs": [],
   "source": []
  },
  {
   "cell_type": "code",
   "execution_count": 5,
   "outputs": [],
   "source": [],
   "metadata": {
    "collapsed": false,
    "ExecuteTime": {
     "end_time": "2023-09-29T19:57:12.890946Z",
     "start_time": "2023-09-29T19:57:12.844587Z"
    }
   }
  },
  {
   "cell_type": "code",
   "execution_count": 5,
   "metadata": {
    "ExecuteTime": {
     "end_time": "2023-09-29T19:27:01.919444Z",
     "start_time": "2023-09-29T19:27:01.912167Z"
    }
   },
   "outputs": [],
   "source": []
  },
  {
   "cell_type": "code",
   "execution_count": 5,
   "metadata": {
    "ExecuteTime": {
     "end_time": "2023-09-29T19:27:01.919613Z",
     "start_time": "2023-09-29T19:27:01.916559Z"
    }
   },
   "outputs": [],
   "source": []
  },
  {
   "cell_type": "code",
   "execution_count": 5,
   "metadata": {
    "ExecuteTime": {
     "end_time": "2023-09-29T19:27:01.929164Z",
     "start_time": "2023-09-29T19:27:01.920314Z"
    }
   },
   "outputs": [],
   "source": []
  },
  {
   "cell_type": "code",
   "execution_count": 5,
   "metadata": {
    "ExecuteTime": {
     "end_time": "2023-09-29T19:27:01.929321Z",
     "start_time": "2023-09-29T19:27:01.923781Z"
    }
   },
   "outputs": [],
   "source": []
  },
  {
   "cell_type": "code",
   "execution_count": 5,
   "metadata": {
    "ExecuteTime": {
     "end_time": "2023-09-29T19:27:01.937410Z",
     "start_time": "2023-09-29T19:27:01.929097Z"
    }
   },
   "outputs": [],
   "source": []
  }
 ],
 "metadata": {
  "kernelspec": {
   "display_name": "Python 3",
   "language": "python",
   "name": "python3"
  },
  "language_info": {
   "codemirror_mode": {
    "name": "ipython",
    "version": 3
   },
   "file_extension": ".py",
   "mimetype": "text/x-python",
   "name": "python",
   "nbconvert_exporter": "python",
   "pygments_lexer": "ipython3",
   "version": "3.6.8"
  }
 },
 "nbformat": 4,
 "nbformat_minor": 2
}
