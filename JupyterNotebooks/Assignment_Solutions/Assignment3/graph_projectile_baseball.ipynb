{
 "cells": [
  {
   "cell_type": "code",
   "execution_count": 1,
   "metadata": {
    "ExecuteTime": {
     "end_time": "2023-09-29T20:03:43.731866Z",
     "start_time": "2023-09-29T20:03:43.662661Z"
    }
   },
   "outputs": [],
   "source": [
    "from array import array\n",
    "import numpy as np\n",
    "import math"
   ]
  },
  {
   "cell_type": "markdown",
   "source": [
    "# Projectile Motion with Air Resistance\n",
    "\n",
    "Projectile motion in two dimensions is governed by a fairly simple set of coupled differential equations:\n",
    "\n",
    "The acceleration components are defined as:\n",
    "\n",
    "$$ a_x(t) = \\frac{F_x(t)}{m} = \\frac{d v_x(t)}{dt}$$\n",
    "$$ a_y(t) = \\frac{F_y(t)}{m} = \\frac{d v_y(t)}{dt}$$\n",
    "\n",
    "The velocity components are defined as:\n",
    "\n",
    "$$ v_x(t) = \\frac{d x(t)}{dt}$$\n",
    "$$ v_y(t) = \\frac{d y(t)}{dt}$$\n",
    "\n",
    "In the previous example, with no air resistance, we saw that for these differential equations, the midpoint method gave the most accurate numerical answers, for a given timestep.  We will use the midpoint method again here, but we will need to modify the acceleration components to include the effects of air resistance.  The force of air resistance is given by:\n",
    "\n",
    "$$ F_{air} = -\\frac{1}{2} C_d \\rho A v^2 $$\n",
    "\n",
    "where $C_d$ is the drag coefficient, $\\rho$ is the density of air, $A$ is the cross-sectional area of the projectile, and $v$ is the magnitude of the velocity of the projectile.  The direction of the force is opposite the direction of the velocity.  The acceleration components are then:\n",
    "\n",
    "$$ a_x(t) = \\frac{F_x(t)}{m} = \\frac{d v_x(t)}{dt} = -\\frac{1}{2} C_d \\rho A \\frac{v_x(t)}{m} v(t)$$\n",
    "$$ a_y(t) = \\frac{F_y(t)}{m} = \\frac{d v_y(t)}{dt} = -\\frac{1}{2} C_d \\rho A \\frac{v_y(t)}{m} v(t) - g$$\n",
    "\n",
    "where $g$ is the acceleration due to gravity.  We can simplify these equations by defining a constant:\n",
    "\n",
    "$$ k = -\\frac{1}{2} C_d \\rho A \\frac{1}{m}$$\n",
    "\n",
    "and then the acceleration components become:\n",
    "\n",
    "$$ a_x(t) = \\frac{d v_x(t)}{dt} = k v(t) v_x(t)$$\n",
    "$$ a_y(t) = \\frac{d v_y(t)}{dt} = k v(t) v_y(t) - g$$\n",
    "\n",
    "We can then use the midpoint method to solve these differential equations.\n",
    "\n",
    "As before, we will always need to know a set of initial conditions:  the initial velocity in the x- and y-directions, and the initial position in the x- and y-directions:  $v_x(0) = v_{x0}, v_y(0) = v_{y0}, x(0) = x_0, y(0) = y_0$"
   ],
   "metadata": {
    "collapsed": false
   }
  },
  {
   "cell_type": "code",
   "execution_count": 2,
   "metadata": {
    "ExecuteTime": {
     "end_time": "2023-09-29T20:03:43.741003Z",
     "start_time": "2023-09-29T20:03:43.735091Z"
    }
   },
   "outputs": [
    {
     "name": "stdout",
     "output_type": "stream",
     "text": [
      "Air resistance constant = -0.005431\n"
     ]
    }
   ],
   "source": [
    "# Initial Conditions\n",
    "speed = 100.0*0.44704 # initial speed in m/s\n",
    "theta_array = np.linspace(30.0,45.0,101)\n",
    "y1 = 1.0\n",
    "\n",
    "\n",
    "# Other constants - baseball\n",
    "Cd = 0.30 # drag coefficient\n",
    "diameter = (.073+.075)/2.0 # diameter of projectile in meters\n",
    "area = np.pi*(diameter/2.0)**2 # cross sectional area of projectile\n",
    "grav = 9.81 # gravitational acceleration\n",
    "mass = (0.142+0.149)/2.0 # mass in kg\n",
    "rho = 1.225 # density of air (kg/m^3)\n",
    "air_const = -0.5*Cd*rho*area/mass\n",
    "Pi = math.pi\n",
    "\n",
    "print(\"Air resistance constant = %f\" % air_const)\n",
    "\n",
    "prange = []\n",
    "prangeTheory = []"
   ]
  },
  {
   "cell_type": "code",
   "execution_count": 3,
   "metadata": {
    "ExecuteTime": {
     "end_time": "2023-09-29T20:03:52.611313Z",
     "start_time": "2023-09-29T20:03:43.767508Z"
    }
   },
   "outputs": [],
   "source": [
    "for theta in theta_array:\n",
    "    r1 = array('d')\n",
    "    v1 = array('d')\n",
    "    r = array('d')\n",
    "    v = array('d')\n",
    "    accel = array('d')\n",
    "\n",
    "    r1.append(0)    \n",
    "    r1.append(y1)\n",
    "    v1.append(speed*math.cos(theta*Pi/180.0))\n",
    "    v1.append(speed*math.sin(theta*Pi/180.0))\n",
    "\n",
    "    r.append(r1[0])\n",
    "    r.append(r1[1])\n",
    "    v.append(v1[0])\n",
    "    v.append(v1[1])\n",
    "    accel.append(0)\n",
    "    accel.append(0)\n",
    "    \n",
    "    # Setup arrays for Euler and Euler-Cromer Methods\n",
    "    re = array('d')\n",
    "    ve = array('d')\n",
    "    accele = array('d')\n",
    "\n",
    "    re.append(r1[0])\n",
    "    re.append(r1[1])\n",
    "    ve.append(v1[0])\n",
    "    ve.append(v1[1])\n",
    "    accele.append(0)\n",
    "    accele.append(0)\n",
    "\n",
    "    rec = array('d')\n",
    "    vec = array('d')\n",
    "    accelec = array('d')\n",
    "\n",
    "    rec.append(r1[0])\n",
    "    rec.append(r1[1])\n",
    "    vec.append(v1[0])\n",
    "    vec.append(v1[1])\n",
    "    accelec.append(0)\n",
    "    accelec.append(0)\n",
    "    \n",
    "    tau = 0.0002 # timestep in seconds\n",
    "    maxStep = 1000000 # maximum number of steps\n",
    "\n",
    "    xplot = array('d')\n",
    "    yplot = array('d')\n",
    "    xplote = array('d')\n",
    "    yplote = array('d')\n",
    "    xplotec = array('d')\n",
    "    yplotec = array('d')\n",
    "    xNoAir = array('d')\n",
    "    yNoAir = array('d')\n",
    "    time = array('d')\n",
    "    timee = array('d')\n",
    "    timeec = array('d')\n",
    "    timeNoAir = array('d')\n",
    "    \n",
    "    endtime = 0\n",
    "    nelements = 0\n",
    "    for iStep in range(1,maxStep+1):\n",
    "    \n",
    "        t = (iStep-1)*tau\n",
    "        \n",
    "        xplot.append(r[0])\n",
    "        yplot.append(r[1])\n",
    "        xplote.append(re[0])\n",
    "        yplote.append(re[1])\n",
    "        xplotec.append(rec[0])\n",
    "        yplotec.append(rec[1])\n",
    "        xNoAir.append(r1[0]+v1[0]*t)\n",
    "        yNoAir.append(r1[1]+v1[1]*t-0.5*grav*t*t)\n",
    "    \n",
    "        timeNoAir.append(t)\n",
    "        time.append(t)\n",
    "        timee.append(t)\n",
    "        timeec.append(t)\n",
    "    \n",
    "        # Euler Method\n",
    "        normVe = math.sqrt(ve[0]*ve[0]+ve[1]*ve[1])\n",
    "        accele[0]=air_const*normVe*ve[0]\n",
    "        accele[1]=air_const*normVe*ve[1]-grav\n",
    "        re[0] = re[0] + tau*ve[0]\n",
    "        re[1] = re[1] + tau*ve[1]\n",
    "        ve[0] = ve[0] + tau*accele[0]\n",
    "        ve[1] = ve[1] + tau*accele[1]\n",
    "    \n",
    "        # Euler-Cromer Method\n",
    "        normVec = math.sqrt(vec[0]*vec[0]+vec[1]*vec[1])\n",
    "        accelec[0]=air_const*normVec*vec[0]\n",
    "        accelec[1]=air_const*normVec*vec[1]-grav\n",
    "        vec[0] = vec[0] + tau*accelec[0]\n",
    "        vec[1] = vec[1] + tau*accelec[1]    \n",
    "        rec[0] = rec[0] + tau*vec[0]\n",
    "        rec[1] = rec[1] + tau*vec[1]\n",
    "    \n",
    "        # MidPoint Method\n",
    "        normV = math.sqrt(v[0]*v[0]+v[1]*v[1])\n",
    "        accel[0]=air_const*normV*v[0]\n",
    "        accel[1]=air_const*normV*v[1]-grav\n",
    "        vxnew = v[0] + tau*accel[0]\n",
    "        vynew = v[1] + tau*accel[1]\n",
    "        r[0] = r[0] + tau*(v[0] + vxnew)/2.0\n",
    "        r[1] = r[1] + tau*(v[1] + vynew)/2.0\n",
    "        v[0] = vxnew\n",
    "        v[1] = vynew    \n",
    "    \n",
    "        #print (\"x = %f     vx = %f    ax = %f\" %(r[0],v[0],accel[0]))\n",
    "        #print (\"y = %f     vy = %f    ay = %f\" %(r[1],v[1],accel[1]))\n",
    "    \n",
    "        if (r[1] < 0 and v[1] < 0):\n",
    "            xplot.append(r[0])\n",
    "            yplot.append(r[1])\n",
    "            xplote.append(re[0])\n",
    "            yplote.append(re[1])\n",
    "            xplotec.append(rec[0])\n",
    "            yplotec.append(rec[1])\n",
    "            time.append(tau*iStep)\n",
    "            timee.append(tau*iStep)\n",
    "            timeec.append(tau*iStep)\n",
    "            endtime = tau*iStep\n",
    "            nelements = iStep\n",
    "            break\n",
    "        \n",
    "    #print (\"Maximum range is %f meters.\" % r[0])\n",
    "    #print (\"Theory maximum range is %f meters.\" % (speed*speed/grav*math.sin(2.0*theta*Pi/180.0)))\n",
    "    #print (\" \")\n",
    "    prange.append(r[0])\n",
    "    prangeTheory.append(speed*speed/grav*math.sin(2.0*theta*Pi/180.0))\n",
    "\n",
    "    #print (\"Time of flight is %f seconds.\" % endtime)\n",
    "    #print (\"Theory time of flight is %f seconds.\" % (2.0*speed/grav*math.sin(theta*Pi/180.0)))\n",
    "    #print (\" \")\n",
    "\n",
    "    max_y = np.amax(yNoAir)+1\n",
    "    max_x = np.amax(xNoAir)+1\n",
    "    max_t = np.amax(time)+1\n",
    "\n",
    "    #print (\"Max y = %f\" % max_y)\n",
    "    #print (\"Theory Max y = %f\" % (speed*speed/(2.0*grav)*math.pow(math.sin(theta*Pi/180.0),2)))\n",
    "    #print (\" \")\n",
    "\n",
    "\n",
    "    #print (\"Number of elements = %d\" % nelements)"
   ]
  },
  {
   "cell_type": "code",
   "execution_count": 6,
   "outputs": [
    {
     "name": "stdout",
     "output_type": "stream",
     "text": [
      "Maximum range is 117.142915 meters at 40.500000 degrees.\n",
      "Maximum range in feet is 384.327163\n"
     ]
    },
    {
     "data": {
      "text/plain": "<Figure size 640x480 with 1 Axes>",
      "image/png": "[encoded data removed]"
     },
     "metadata": {},
     "output_type": "display_data"
    }
   ],
   "source": [
    "import matplotlib.pyplot as plt\n",
    "plt.plot(theta_array,prange,'r--',label='Midpoint Method')\n",
    "#plt.plot(theta_array,prangeTheory,'b-',label='Theory')\n",
    "plt.xlabel('Theta (degrees)')\n",
    "plt.ylabel('Range (meters)')\n",
    "plt.title('Range vs. Theta')\n",
    "plt.legend()\n",
    "\n",
    "idx = np.argmax(prange)\n",
    "print (\"Maximum range is %f meters at %f degrees.\" % (prange[idx],theta_array[idx]))\n",
    "print(\"Maximum range in feet is %f\" % (prange[idx]*3.28084))\n"
   ],
   "metadata": {
    "collapsed": false,
    "ExecuteTime": {
     "end_time": "2023-09-29T20:04:38.848832Z",
     "start_time": "2023-09-29T20:04:38.710255Z"
    }
   }
  },
  {
   "cell_type": "code",
   "execution_count": 5,
   "metadata": {
    "ExecuteTime": {
     "end_time": "2023-09-29T20:03:53.171650Z",
     "start_time": "2023-09-29T20:03:53.039726Z"
    }
   },
   "outputs": [
    {
     "data": {
      "text/plain": "[<matplotlib.lines.Line2D at 0x1082c99d0>]"
     },
     "execution_count": 5,
     "metadata": {},
     "output_type": "execute_result"
    },
    {
     "data": {
      "text/plain": "<Figure size 640x480 with 1 Axes>",
      "image/png": "[encoded data removed]"
     },
     "metadata": {},
     "output_type": "display_data"
    }
   ],
   "source": [
    "plt.plot(xplot,yplot,'r--',label='Midpoint Method')\n",
    "plt.plot(xplote,yplote,'b-',label='Euler Method')\n",
    "plt.plot(xplotec,yplotec,'g-',label='Euler-Cromer Method')\n",
    "plt.plot(xNoAir,yNoAir,'k-',label='No Air Resistance')"
   ]
  },
  {
   "cell_type": "code",
   "execution_count": 5,
   "metadata": {
    "ExecuteTime": {
     "end_time": "2023-09-29T20:03:53.171808Z",
     "start_time": "2023-09-29T20:03:53.168491Z"
    }
   },
   "outputs": [],
   "source": []
  },
  {
   "cell_type": "code",
   "execution_count": 5,
   "metadata": {
    "ExecuteTime": {
     "end_time": "2023-09-29T20:03:53.177812Z",
     "start_time": "2023-09-29T20:03:53.172375Z"
    }
   },
   "outputs": [],
   "source": []
  },
  {
   "cell_type": "code",
   "execution_count": 5,
   "outputs": [],
   "source": [],
   "metadata": {
    "collapsed": false,
    "ExecuteTime": {
     "end_time": "2023-09-29T20:03:53.178036Z",
     "start_time": "2023-09-29T20:03:53.175688Z"
    }
   }
  },
  {
   "cell_type": "code",
   "execution_count": 5,
   "metadata": {
    "ExecuteTime": {
     "end_time": "2023-09-29T20:03:53.183557Z",
     "start_time": "2023-09-29T20:03:53.178999Z"
    }
   },
   "outputs": [],
   "source": []
  },
  {
   "cell_type": "code",
   "execution_count": 5,
   "metadata": {
    "ExecuteTime": {
     "end_time": "2023-09-29T20:03:53.188446Z",
     "start_time": "2023-09-29T20:03:53.184190Z"
    }
   },
   "outputs": [],
   "source": []
  },
  {
   "cell_type": "code",
   "execution_count": 5,
   "metadata": {
    "ExecuteTime": {
     "end_time": "2023-09-29T20:03:53.189884Z",
     "start_time": "2023-09-29T20:03:53.187084Z"
    }
   },
   "outputs": [],
   "source": []
  },
  {
   "cell_type": "code",
   "execution_count": 5,
   "metadata": {
    "ExecuteTime": {
     "end_time": "2023-09-29T20:03:53.241035Z",
     "start_time": "2023-09-29T20:03:53.190312Z"
    }
   },
   "outputs": [],
   "source": []
  },
  {
   "cell_type": "code",
   "execution_count": 5,
   "metadata": {
    "ExecuteTime": {
     "end_time": "2023-09-29T20:03:53.241172Z",
     "start_time": "2023-09-29T20:03:53.193519Z"
    }
   },
   "outputs": [],
   "source": []
  }
 ],
 "metadata": {
  "kernelspec": {
   "display_name": "Python 3",
   "language": "python",
   "name": "python3"
  },
  "language_info": {
   "codemirror_mode": {
    "name": "ipython",
    "version": 3
   },
   "file_extension": ".py",
   "mimetype": "text/x-python",
   "name": "python",
   "nbconvert_exporter": "python",
   "pygments_lexer": "ipython3",
   "version": "3.6.8"
  }
 },
 "nbformat": 4,
 "nbformat_minor": 2
}
