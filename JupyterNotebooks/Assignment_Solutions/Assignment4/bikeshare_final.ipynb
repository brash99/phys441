{
 "cells": [
  {
   "cell_type": "markdown",
   "id": "victorian-latitude",
   "metadata": {},
   "source": [
    "# Bike Share System"
   ]
  },
  {
   "cell_type": "markdown",
   "id": "imported-table",
   "metadata": {
    "tags": []
   },
   "source": [
    "*Modeling and Simulation in Python*\n",
    "\n",
    "Copyright 2021 Allen Downey\n",
    "\n",
    "License: [Creative Commons Attribution-NonCommercial-ShareAlike 4.0 International](https://creativecommons.org/licenses/by-nc-sa/4.0/)"
   ]
  },
  {
   "cell_type": "code",
   "execution_count": 1,
   "id": "electoral-turkey",
   "metadata": {
    "tags": [],
    "ExecuteTime": {
     "end_time": "2023-10-29T19:47:34.225824Z",
     "start_time": "2023-10-29T19:47:17.528187Z"
    }
   },
   "outputs": [],
   "source": [
    "# import functions from modsim\n",
    "from modsim import *"
   ]
  },
  {
   "cell_type": "code",
   "execution_count": 2,
   "id": "formal-context",
   "metadata": {
    "tags": [],
    "ExecuteTime": {
     "end_time": "2023-10-29T19:47:34.238124Z",
     "start_time": "2023-10-29T19:47:34.230542Z"
    }
   },
   "outputs": [],
   "source": [
    "def step(state, p1, p2, p3, p4, p5, p6):\n",
    "    \"\"\"Simulate one time step.\n",
    "    \n",
    "    state: bikeshare State object\n",
    "    p1: probability of an A->B ride\n",
    "    p2: probability of a B->A ride\n",
    "    p3: probability of an A->C ride\n",
    "    p4: probability of a C->A ride\n",
    "    p5: probability of a B->C ride\n",
    "    p6: probability of a C->B ride\n",
    "    \"\"\"\n",
    "    if flip(p1):\n",
    "        bike_A_to_B(state)\n",
    "    \n",
    "    if flip(p2):\n",
    "        bike_B_to_A(state)\n",
    "        \n",
    "    if flip(p3):\n",
    "        bike_A_to_C(state)\n",
    "    \n",
    "    if flip(p4):\n",
    "        bike_C_to_A(state)\n",
    "        \n",
    "    if flip(p5):\n",
    "        bike_B_to_C(state)\n",
    "        \n",
    "    if flip(p6):\n",
    "        bike_C_to_B(state)\n",
    "        \n",
    "def bike_A_to_B(state):\n",
    "    \"\"\"Move one bike from A to B.\n",
    "    \n",
    "    state: bikeshare State object\n",
    "    \"\"\"\n",
    "    if state.A == 0:\n",
    "        state.A_empty += 1\n",
    "        return\n",
    "    state.A -= 1\n",
    "    state.B += 1\n",
    "    \n",
    "def bike_B_to_A(state):\n",
    "    \"\"\"Move one bike from B to A.\n",
    "    \n",
    "    state: bikeshare State object\n",
    "    \"\"\"\n",
    "    if state.B == 0:\n",
    "        state.B_empty += 1\n",
    "        return\n",
    "    state.B -= 1\n",
    "    state.A += 1\n",
    "    \n",
    "def bike_A_to_C(state):\n",
    "    \"\"\"Move one bike from A to C.\n",
    "    \n",
    "    state: bikeshare State object\n",
    "    \"\"\"\n",
    "    if state.A == 0:\n",
    "        state.A_empty += 1\n",
    "        return\n",
    "    state.A -= 1\n",
    "    state.C += 1\n",
    "    \n",
    "def bike_C_to_A(state):\n",
    "    \"\"\"Move one bike from C to A.\n",
    "    \n",
    "    state: bikeshare State object\n",
    "    \"\"\"\n",
    "    if state.C == 0:\n",
    "        state.C_empty += 1\n",
    "        return\n",
    "    state.C -= 1\n",
    "    state.A += 1\n",
    "    \n",
    "def bike_B_to_C(state):\n",
    "    \"\"\"Move one bike from B to C.\n",
    "    \n",
    "    state: bikeshare State object\n",
    "    \"\"\"\n",
    "    if state.B == 0:\n",
    "        state.B_empty += 1\n",
    "        return\n",
    "    state.B -= 1\n",
    "    state.C += 1\n",
    "    \n",
    "def bike_C_to_B(state):\n",
    "    \"\"\"Move one bike from C to B.\n",
    "    \n",
    "    state: bikeshare State object\n",
    "    \"\"\"\n",
    "    if state.C == 0:\n",
    "        state.C_empty += 1\n",
    "        return\n",
    "    state.C -= 1\n",
    "    state.B += 1\n"
   ]
  },
  {
   "cell_type": "code",
   "execution_count": 3,
   "id": "progressive-typing",
   "metadata": {
    "tags": [],
    "ExecuteTime": {
     "end_time": "2023-10-29T19:47:34.242547Z",
     "start_time": "2023-10-29T19:47:34.238428Z"
    }
   },
   "outputs": [],
   "source": [
    "def run_simulation(state, p1, p2, p3, p4, p5, p6, num_steps, do_plot=True):\n",
    "    \"\"\"Simulate the given number of time steps.\n",
    "    \n",
    "    state: State object\n",
    "    p1: probability of an A->B customer arrival\n",
    "    p2: probability of a B->A customer arrival\n",
    "    p3: probability of an A->C customer arrival\n",
    "    p4: probability of a C->A customer arrival\n",
    "    p5: probability of a B->C customer arrival\n",
    "    p6: probability of a C->B customer arrival\n",
    "    num_steps: number of time steps\n",
    "    \"\"\"\n",
    "    results_A = TimeSeries()\n",
    "    results_A[0] = state.A\n",
    "    results_B = TimeSeries()\n",
    "    results_B[0] = state.B\n",
    "    results_C = TimeSeries()\n",
    "    results_C[0] = state.C\n",
    "    results_A_empty = TimeSeries()\n",
    "    results_A_empty[0] = state.A_empty\n",
    "    results_B_empty = TimeSeries()\n",
    "    results_B_empty[0] = state.B_empty\n",
    "    results_C_empty = TimeSeries()\n",
    "    results_C_empty[0] = state.C_empty\n",
    "    \n",
    "    \n",
    "    for i in range(num_steps):\n",
    "        step(state, p1, p2, p3, p4, p5, p6)\n",
    "        results_A[i+1] = state.A\n",
    "        results_B[i+1] = state.B\n",
    "        results_C[i+1] = state.C\n",
    "        results_A_empty[i+1] = state.A_empty\n",
    "        results_B_empty[i+1] = state.B_empty\n",
    "        results_C_empty[i+1] = state.C_empty\n",
    "        \n",
    "    if (do_plot):\n",
    "        fig, ax = plt.subplots(1,2,figsize=(12,6))\n",
    "        ax[0].plot(results_A, label='A')\n",
    "        ax[0].plot(results_B, label='B')\n",
    "        ax[0].plot(results_C, label='C')\n",
    "        ax[0].set_xlabel('Time step (min)')\n",
    "        ax[0].set_ylabel('Number of bikes')\n",
    "        ax[0].legend()\n",
    "        ax[1].plot(results_A_empty, label='A')\n",
    "        ax[1].plot(results_B_empty, label='B')\n",
    "        ax[1].plot(results_C_empty, label='C')\n",
    "        ax[1].set_xlabel('Time step (min)')\n",
    "        ax[1].set_ylabel('Number of unsatisfied customers')\n",
    "        ax[1].legend()\n",
    "        plt.show()\n",
    "    \n",
    "    return results_A_empty[num_steps-1] + results_B_empty[num_steps-1] + results_C_empty[num_steps-1]"
   ]
  },
  {
   "cell_type": "code",
   "execution_count": 4,
   "outputs": [
    {
     "name": "stdout",
     "output_type": "stream",
     "text": [
      "0 0 12\n",
      "Average unsatisfied customers:  78.9\n",
      "0 1 11\n",
      "Average unsatisfied customers:  85.9\n",
      "0 2 10\n",
      "Average unsatisfied customers:  83.7\n",
      "0 3 9\n",
      "Average unsatisfied customers:  82.0\n",
      "0 4 8\n",
      "Average unsatisfied customers:  82.2\n",
      "0 5 7\n",
      "Average unsatisfied customers:  74.4\n",
      "0 6 6\n",
      "Average unsatisfied customers:  76.4\n",
      "0 7 5\n",
      "Average unsatisfied customers:  78.1\n",
      "0 8 4\n",
      "Average unsatisfied customers:  73.3\n",
      "0 9 3\n",
      "Average unsatisfied customers:  69.4\n",
      "0 10 2\n",
      "Average unsatisfied customers:  68.1\n",
      "0 11 1\n",
      "Average unsatisfied customers:  73.4\n",
      "0 12 0\n",
      "Average unsatisfied customers:  72.0\n",
      "1 0 11\n",
      "Average unsatisfied customers:  76.2\n",
      "1 1 10\n",
      "Average unsatisfied customers:  80.5\n",
      "1 2 9\n",
      "Average unsatisfied customers:  86.2\n",
      "1 3 8\n",
      "Average unsatisfied customers:  78.7\n",
      "1 4 7\n",
      "Average unsatisfied customers:  69.7\n",
      "1 5 6\n",
      "Average unsatisfied customers:  75.5\n",
      "1 6 5\n",
      "Average unsatisfied customers:  66.1\n",
      "1 7 4\n",
      "Average unsatisfied customers:  76.0\n",
      "1 8 3\n",
      "Average unsatisfied customers:  66.0\n",
      "1 9 2\n",
      "Average unsatisfied customers:  65.6\n",
      "1 10 1\n",
      "Average unsatisfied customers:  69.0\n",
      "1 11 0\n",
      "Average unsatisfied customers:  65.6\n",
      "2 0 10\n",
      "Average unsatisfied customers:  85.3\n",
      "2 1 9\n",
      "Average unsatisfied customers:  73.5\n",
      "2 2 8\n",
      "Average unsatisfied customers:  74.9\n",
      "2 3 7\n",
      "Average unsatisfied customers:  68.6\n",
      "2 4 6\n",
      "Average unsatisfied customers:  70.3\n",
      "2 5 5\n",
      "Average unsatisfied customers:  64.9\n",
      "2 6 4\n",
      "Average unsatisfied customers:  61.3\n",
      "2 7 3\n",
      "Average unsatisfied customers:  67.7\n",
      "2 8 2\n",
      "Average unsatisfied customers:  66.3\n",
      "2 9 1\n",
      "Average unsatisfied customers:  65.0\n",
      "2 10 0\n",
      "Average unsatisfied customers:  59.0\n",
      "3 0 9\n",
      "Average unsatisfied customers:  78.3\n",
      "3 1 8\n",
      "Average unsatisfied customers:  77.1\n",
      "3 2 7\n",
      "Average unsatisfied customers:  76.8\n",
      "3 3 6\n",
      "Average unsatisfied customers:  78.5\n",
      "3 4 5\n",
      "Average unsatisfied customers:  71.1\n",
      "3 5 4\n",
      "Average unsatisfied customers:  69.7\n",
      "3 6 3\n",
      "Average unsatisfied customers:  72.9\n",
      "3 7 2\n",
      "Average unsatisfied customers:  67.7\n",
      "3 8 1\n",
      "Average unsatisfied customers:  68.0\n",
      "3 9 0\n",
      "Average unsatisfied customers:  63.1\n",
      "4 0 8\n",
      "Average unsatisfied customers:  71.9\n",
      "4 1 7\n",
      "Average unsatisfied customers:  73.0\n",
      "4 2 6\n",
      "Average unsatisfied customers:  76.3\n",
      "4 3 5\n",
      "Average unsatisfied customers:  65.2\n",
      "4 4 4\n",
      "Average unsatisfied customers:  70.5\n",
      "4 5 3\n",
      "Average unsatisfied customers:  67.8\n",
      "4 6 2\n",
      "Average unsatisfied customers:  67.6\n",
      "4 7 1\n",
      "Average unsatisfied customers:  64.7\n",
      "4 8 0\n",
      "Average unsatisfied customers:  64.8\n",
      "5 0 7\n",
      "Average unsatisfied customers:  73.0\n",
      "5 1 6\n",
      "Average unsatisfied customers:  72.1\n",
      "5 2 5\n",
      "Average unsatisfied customers:  70.0\n",
      "5 3 4\n",
      "Average unsatisfied customers:  64.5\n",
      "5 4 3\n",
      "Average unsatisfied customers:  73.4\n",
      "5 5 2\n",
      "Average unsatisfied customers:  66.3\n",
      "5 6 1\n",
      "Average unsatisfied customers:  66.6\n",
      "5 7 0\n",
      "Average unsatisfied customers:  69.1\n",
      "6 0 6\n",
      "Average unsatisfied customers:  76.5\n",
      "6 1 5\n",
      "Average unsatisfied customers:  76.9\n",
      "6 2 4\n",
      "Average unsatisfied customers:  70.2\n",
      "6 3 3\n",
      "Average unsatisfied customers:  67.4\n",
      "6 4 2\n",
      "Average unsatisfied customers:  59.6\n",
      "6 5 1\n",
      "Average unsatisfied customers:  69.9\n",
      "6 6 0\n",
      "Average unsatisfied customers:  59.1\n",
      "7 0 5\n",
      "Average unsatisfied customers:  75.6\n",
      "7 1 4\n",
      "Average unsatisfied customers:  67.7\n",
      "7 2 3\n",
      "Average unsatisfied customers:  66.9\n",
      "7 3 2\n",
      "Average unsatisfied customers:  63.3\n",
      "7 4 1\n",
      "Average unsatisfied customers:  67.5\n",
      "7 5 0\n",
      "Average unsatisfied customers:  62.4\n",
      "8 0 4\n",
      "Average unsatisfied customers:  68.0\n",
      "8 1 3\n",
      "Average unsatisfied customers:  69.0\n",
      "8 2 2\n",
      "Average unsatisfied customers:  60.0\n",
      "8 3 1\n",
      "Average unsatisfied customers:  69.0\n",
      "8 4 0\n",
      "Average unsatisfied customers:  71.2\n",
      "9 0 3\n",
      "Average unsatisfied customers:  72.6\n",
      "9 1 2\n",
      "Average unsatisfied customers:  66.3\n",
      "9 2 1\n",
      "Average unsatisfied customers:  61.2\n",
      "9 3 0\n",
      "Average unsatisfied customers:  69.7\n",
      "10 0 2\n",
      "Average unsatisfied customers:  66.7\n",
      "10 1 1\n",
      "Average unsatisfied customers:  67.0\n",
      "10 2 0\n",
      "Average unsatisfied customers:  64.9\n",
      "11 0 1\n",
      "Average unsatisfied customers:  69.5\n",
      "11 1 0\n",
      "Average unsatisfied customers:  65.3\n",
      "12 0 0\n",
      "Average unsatisfied customers:  63.0\n"
     ]
    }
   ],
   "source": [
    "p_AB = 0.3\n",
    "p_BA = 0.2\n",
    "p_AC = 0.4\n",
    "p_CA = 0.1\n",
    "p_BC = 0.35\n",
    "p_CB = 0.15\n",
    "\n",
    "N_slots = 12\n",
    "\n",
    "nstartA = []\n",
    "nstartB = []\n",
    "nstartC = []\n",
    "tu_avg = []\n",
    "\n",
    "num_sims = 10\n",
    "\n",
    "for N_start_A in range(N_slots+1):\n",
    "\n",
    "    for N_start_B in range(N_slots+1-N_start_A):\n",
    "        \n",
    "        nstartA.append(N_start_A)\n",
    "        nstartB.append(N_start_B)\n",
    "        \n",
    "        N_start_C = N_slots - N_start_A - N_start_B\n",
    "        \n",
    "        nstartC.append(N_start_C)\n",
    "\n",
    "        print(N_start_A, N_start_B, N_start_C)\n",
    "\n",
    "        tu_sum = 0\n",
    "    \n",
    "        for j in range(num_sims):\n",
    "            bikeshare = State(A=N_start_A, B=N_start_B, C=N_start_C, A_empty=0, B_empty=0, C_empty=0)\n",
    "            do_plot = False\n",
    "            total_unsatisfied = run_simulation(bikeshare, p_AB, p_BA, p_AC, p_CA, p_BC, p_CB, 100, do_plot)\n",
    "\n",
    "            #print(\"Total unsatisfied customers: \", j, total_unsatisfied)\n",
    "            tu_sum += total_unsatisfied\n",
    "    \n",
    "        print(\"Average unsatisfied customers: \", tu_sum/(1.0*num_sims))\n",
    "        tu_avg.append(tu_sum/(1.0*num_sims))\n",
    "    \n"
   ],
   "metadata": {
    "collapsed": false,
    "ExecuteTime": {
     "end_time": "2023-10-29T19:50:03.153092Z",
     "start_time": "2023-10-29T19:47:34.249022Z"
    }
   },
   "id": "760647dfb2ea5d9f"
  },
  {
   "cell_type": "code",
   "execution_count": 6,
   "outputs": [
    {
     "data": {
      "text/plain": "<matplotlib.legend.Legend at 0x128ab3590>"
     },
     "execution_count": 6,
     "metadata": {},
     "output_type": "execute_result"
    },
    {
     "data": {
      "text/plain": "<Figure size 1575x525 with 3 Axes>",
      "image/png": "[encoded data removed]"
     },
     "metadata": {},
     "output_type": "display_data"
    }
   ],
   "source": [
    "tu_avg_error = 0.01*np.array(tu_avg)\n",
    "\n",
    "fig, ax = plt.subplots(1,3,figsize=(21,7))\n",
    "\n",
    "ax[0].errorbar(nstartA, tu_avg, tu_avg_error, fmt='.', label='Average unsatisfied customers')\n",
    "ax[0].set_xlabel('Number of starting bikes at A')\n",
    "ax[0].set_ylabel('Average number of unsatisfied customers')\n",
    "ax[0].legend()\n",
    "ax[1].errorbar(nstartB, tu_avg, tu_avg_error, fmt='.', label='Average unsatisfied customers')\n",
    "ax[1].set_xlabel('Number of starting bikes at B')\n",
    "ax[1].set_ylabel('Average number of unsatisfied customers')\n",
    "ax[1].legend()\n",
    "ax[2].errorbar(nstartC, tu_avg, tu_avg_error, fmt='.', label='Average unsatisfied customers')\n",
    "ax[2].set_xlabel('Number of starting bikes at C')\n",
    "ax[2].set_ylabel('Average number of unsatisfied customers')\n",
    "ax[2].legend()\n"
   ],
   "metadata": {
    "collapsed": false,
    "ExecuteTime": {
     "end_time": "2023-10-29T19:57:09.981483Z",
     "start_time": "2023-10-29T19:57:09.560662Z"
    }
   },
   "id": "5cdc15f29e14c6d1"
  },
  {
   "cell_type": "markdown",
   "source": [],
   "metadata": {
    "collapsed": false
   },
   "id": "8618a00660b30f10"
  },
  {
   "cell_type": "markdown",
   "id": "above-denial",
   "metadata": {},
   "source": []
  },
  {
   "cell_type": "code",
   "execution_count": 7,
   "id": "incorrect-comparison",
   "metadata": {
    "ExecuteTime": {
     "end_time": "2023-10-29T19:57:17.187525Z",
     "start_time": "2023-10-29T19:57:15.171694Z"
    }
   },
   "outputs": [
    {
     "data": {
      "text/plain": "<Figure size 900x450 with 2 Axes>",
      "image/png": "[encoded data removed]"
     },
     "metadata": {},
     "output_type": "display_data"
    },
    {
     "data": {
      "text/plain": "<Figure size 900x450 with 2 Axes>",
      "image/png": "[encoded data removed]"
     },
     "metadata": {},
     "output_type": "display_data"
    },
    {
     "data": {
      "text/plain": "<Figure size 900x450 with 2 Axes>",
      "image/png": "[encoded data removed]"
     },
     "metadata": {},
     "output_type": "display_data"
    },
    {
     "data": {
      "text/plain": "<Figure size 900x450 with 2 Axes>",
      "image/png": "[encoded data removed]"
     },
     "metadata": {},
     "output_type": "display_data"
    },
    {
     "name": "stdout",
     "output_type": "stream",
     "text": [
      "Average unsatisfied customers:  7.5\n"
     ]
    }
   ],
   "source": [
    "tu_sum = 0\n",
    "num_sims = 4\n",
    "\n",
    "N_slots = 100\n",
    "\n",
    "N_start_A = 70\n",
    "N_start_B = 30\n",
    "N_start_C = 0\n",
    "    \n",
    "for j in range(num_sims):\n",
    "    bikeshare = State(A=N_start_A, B=N_start_B, C=N_start_C, A_empty=0, B_empty=0, C_empty=0)\n",
    "    do_plot = True\n",
    "    total_unsatisfied = run_simulation(bikeshare, p_AB, p_BA, p_AC, p_CA, p_BC, p_CB, 180, do_plot)\n",
    "\n",
    "    #print(\"Total unsatisfied customers: \", j, total_unsatisfied)\n",
    "    tu_sum += total_unsatisfied\n",
    "    \n",
    "print(\"Average unsatisfied customers: \", tu_sum/(1.0*num_sims))"
   ]
  },
  {
   "cell_type": "markdown",
   "id": "living-wayne",
   "metadata": {},
   "source": []
  },
  {
   "cell_type": "code",
   "execution_count": 12,
   "id": "brief-diversity",
   "metadata": {
    "ExecuteTime": {
     "end_time": "2023-10-29T20:03:57.379115Z",
     "start_time": "2023-10-29T20:01:26.740226Z"
    }
   },
   "outputs": [
    {
     "name": "stdout",
     "output_type": "stream",
     "text": [
      "50 50 0\n",
      "Average unsatisfied customers:  29.4\n",
      "51 49 0\n",
      "Average unsatisfied customers:  24.4\n",
      "52 48 0\n",
      "Average unsatisfied customers:  17.4\n",
      "53 47 0\n",
      "Average unsatisfied customers:  23.9\n",
      "54 46 0\n",
      "Average unsatisfied customers:  21.8\n",
      "55 45 0\n",
      "Average unsatisfied customers:  15.4\n",
      "56 44 0\n",
      "Average unsatisfied customers:  18.0\n",
      "57 43 0\n",
      "Average unsatisfied customers:  20.6\n",
      "58 42 0\n",
      "Average unsatisfied customers:  16.1\n",
      "59 41 0\n",
      "Average unsatisfied customers:  18.9\n",
      "60 40 0\n",
      "Average unsatisfied customers:  9.9\n",
      "61 39 0\n",
      "Average unsatisfied customers:  10.4\n",
      "62 38 0\n",
      "Average unsatisfied customers:  6.8\n",
      "63 37 0\n",
      "Average unsatisfied customers:  13.0\n",
      "64 36 0\n",
      "Average unsatisfied customers:  14.6\n",
      "65 35 0\n",
      "Average unsatisfied customers:  12.1\n",
      "66 34 0\n",
      "Average unsatisfied customers:  9.1\n",
      "67 33 0\n",
      "Average unsatisfied customers:  8.4\n",
      "68 32 0\n",
      "Average unsatisfied customers:  9.2\n",
      "69 31 0\n",
      "Average unsatisfied customers:  9.1\n",
      "70 30 0\n",
      "Average unsatisfied customers:  10.0\n",
      "71 29 0\n",
      "Average unsatisfied customers:  10.1\n",
      "72 28 0\n",
      "Average unsatisfied customers:  9.4\n",
      "73 27 0\n",
      "Average unsatisfied customers:  5.4\n",
      "74 26 0\n",
      "Average unsatisfied customers:  3.6\n",
      "75 25 0\n",
      "Average unsatisfied customers:  4.4\n",
      "76 24 0\n",
      "Average unsatisfied customers:  3.0\n",
      "77 23 0\n",
      "Average unsatisfied customers:  7.7\n",
      "78 22 0\n",
      "Average unsatisfied customers:  11.4\n",
      "79 21 0\n",
      "Average unsatisfied customers:  12.4\n",
      "80 20 0\n",
      "Average unsatisfied customers:  9.1\n",
      "81 19 0\n",
      "Average unsatisfied customers:  3.3\n",
      "82 18 0\n",
      "Average unsatisfied customers:  4.8\n",
      "83 17 0\n",
      "Average unsatisfied customers:  5.9\n",
      "84 16 0\n",
      "Average unsatisfied customers:  5.5\n",
      "85 15 0\n",
      "Average unsatisfied customers:  4.8\n",
      "86 14 0\n",
      "Average unsatisfied customers:  10.0\n",
      "87 13 0\n",
      "Average unsatisfied customers:  14.8\n",
      "88 12 0\n",
      "Average unsatisfied customers:  12.3\n",
      "89 11 0\n",
      "Average unsatisfied customers:  10.0\n",
      "90 10 0\n",
      "Average unsatisfied customers:  12.9\n",
      "91 9 0\n",
      "Average unsatisfied customers:  14.5\n",
      "92 8 0\n",
      "Average unsatisfied customers:  8.5\n",
      "93 7 0\n",
      "Average unsatisfied customers:  16.2\n",
      "94 6 0\n",
      "Average unsatisfied customers:  19.1\n",
      "95 5 0\n",
      "Average unsatisfied customers:  15.5\n",
      "96 4 0\n",
      "Average unsatisfied customers:  16.4\n",
      "97 3 0\n",
      "Average unsatisfied customers:  15.7\n",
      "98 2 0\n",
      "Average unsatisfied customers:  17.8\n",
      "99 1 0\n",
      "Average unsatisfied customers:  21.1\n",
      "100 0 0\n",
      "Average unsatisfied customers:  22.7\n"
     ]
    }
   ],
   "source": [
    "p_AB = 0.3\n",
    "p_BA = 0.2\n",
    "p_AC = 0.4\n",
    "p_CA = 0.1\n",
    "p_BC = 0.35\n",
    "p_CB = 0.15\n",
    "\n",
    "N_slots = 100\n",
    "\n",
    "nstartA = []\n",
    "nstartB = []\n",
    "nstartC = []\n",
    "tu_avg = []\n",
    "\n",
    "num_sims = 10\n",
    "\n",
    "N_start_C = 0\n",
    "\n",
    "for N_start_A in range(50,N_slots+1,1):\n",
    "\n",
    "        N_start_B = N_slots - N_start_A - N_start_C\n",
    "        \n",
    "        nstartA.append(N_start_A)\n",
    "        nstartB.append(N_start_B)\n",
    "        \n",
    "        nstartC.append(N_start_C)\n",
    "\n",
    "        print(N_start_A, N_start_B, N_start_C)\n",
    "\n",
    "        tu_sum = 0\n",
    "    \n",
    "        for j in range(num_sims):\n",
    "            bikeshare = State(A=N_start_A, B=N_start_B, C=N_start_C, A_empty=0, B_empty=0, C_empty=0)\n",
    "            do_plot = False\n",
    "            total_unsatisfied = run_simulation(bikeshare, p_AB, p_BA, p_AC, p_CA, p_BC, p_CB, 180, do_plot)\n",
    "\n",
    "            #print(\"Total unsatisfied customers: \", j, total_unsatisfied)\n",
    "            tu_sum += total_unsatisfied\n",
    "    \n",
    "        print(\"Average unsatisfied customers: \", tu_sum/(1.0*num_sims))\n",
    "        tu_avg.append(tu_sum/(1.0*num_sims))\n",
    "    \n"
   ]
  },
  {
   "cell_type": "markdown",
   "id": "intermediate-midwest",
   "metadata": {},
   "source": []
  },
  {
   "cell_type": "code",
   "execution_count": 13,
   "id": "designed-brazilian",
   "metadata": {
    "ExecuteTime": {
     "end_time": "2023-10-29T20:03:57.639932Z",
     "start_time": "2023-10-29T20:03:57.382498Z"
    }
   },
   "outputs": [
    {
     "data": {
      "text/plain": "<matplotlib.legend.Legend at 0x1290530d0>"
     },
     "execution_count": 13,
     "metadata": {},
     "output_type": "execute_result"
    },
    {
     "data": {
      "text/plain": "<Figure size 1575x525 with 2 Axes>",
      "image/png": "[encoded data removed]"
     },
     "metadata": {},
     "output_type": "display_data"
    }
   ],
   "source": [
    "tu_avg_error = 1/np.sqrt(num_sims)*np.array(tu_avg)\n",
    "\n",
    "fig, ax = plt.subplots(1,2,figsize=(21,7))\n",
    "\n",
    "ax[0].errorbar(nstartA, tu_avg, tu_avg_error, fmt='.', label='Average unsatisfied customers')\n",
    "ax[0].set_xlabel('Number of starting bikes at A')\n",
    "ax[0].set_ylabel('Average number of unsatisfied customers')\n",
    "ax[0].set_ylim(0)\n",
    "ax[0].legend()\n",
    "ax[1].errorbar(nstartB, tu_avg, tu_avg_error, fmt='.', label='Average unsatisfied customers')\n",
    "ax[1].set_xlabel('Number of starting bikes at B')\n",
    "ax[1].set_ylabel('Average number of unsatisfied customers')\n",
    "ax[1].set_ylim(0)\n",
    "ax[1].legend()"
   ]
  },
  {
   "cell_type": "markdown",
   "id": "phantom-oklahoma",
   "metadata": {},
   "source": []
  },
  {
   "cell_type": "code",
   "execution_count": 14,
   "id": "impaired-potter",
   "metadata": {
    "ExecuteTime": {
     "end_time": "2023-10-29T20:15:12.987108Z",
     "start_time": "2023-10-29T20:05:11.346836Z"
    }
   },
   "outputs": [
    {
     "name": "stdout",
     "output_type": "stream",
     "text": [
      "70 30 0\n",
      "Average unsatisfied customers:  8.05\n",
      "71 29 0\n",
      "Average unsatisfied customers:  7.86\n",
      "72 28 0\n",
      "Average unsatisfied customers:  7.08\n",
      "73 27 0\n",
      "Average unsatisfied customers:  5.27\n",
      "74 26 0\n",
      "Average unsatisfied customers:  6.6\n",
      "75 25 0\n",
      "Average unsatisfied customers:  5.74\n",
      "76 24 0\n",
      "Average unsatisfied customers:  5.89\n",
      "77 23 0\n",
      "Average unsatisfied customers:  7.57\n",
      "78 22 0\n",
      "Average unsatisfied customers:  6.11\n",
      "79 21 0\n",
      "Average unsatisfied customers:  6.12\n",
      "80 20 0\n",
      "Average unsatisfied customers:  6.25\n",
      "81 19 0\n",
      "Average unsatisfied customers:  5.43\n",
      "82 18 0\n",
      "Average unsatisfied customers:  7.48\n",
      "83 17 0\n",
      "Average unsatisfied customers:  7.4\n",
      "84 16 0\n",
      "Average unsatisfied customers:  7.61\n",
      "85 15 0\n",
      "Average unsatisfied customers:  8.82\n",
      "86 14 0\n",
      "Average unsatisfied customers:  10.51\n",
      "87 13 0\n",
      "Average unsatisfied customers:  11.36\n",
      "88 12 0\n",
      "Average unsatisfied customers:  10.85\n",
      "89 11 0\n",
      "Average unsatisfied customers:  11.11\n",
      "90 10 0\n",
      "Average unsatisfied customers:  10.67\n"
     ]
    }
   ],
   "source": [
    "p_AB = 0.3\n",
    "p_BA = 0.2\n",
    "p_AC = 0.4\n",
    "p_CA = 0.1\n",
    "p_BC = 0.35\n",
    "p_CB = 0.15\n",
    "\n",
    "N_slots = 100\n",
    "\n",
    "nstartA = []\n",
    "nstartB = []\n",
    "nstartC = []\n",
    "tu_avg = []\n",
    "\n",
    "num_sims = 100\n",
    "\n",
    "N_start_C = 0\n",
    "\n",
    "for N_start_A in range(70,N_slots+1-10,1):\n",
    "\n",
    "        N_start_B = N_slots - N_start_A - N_start_C\n",
    "        \n",
    "        nstartA.append(N_start_A)\n",
    "        nstartB.append(N_start_B)\n",
    "        \n",
    "        nstartC.append(N_start_C)\n",
    "\n",
    "        print(N_start_A, N_start_B, N_start_C)\n",
    "\n",
    "        tu_sum = 0\n",
    "    \n",
    "        for j in range(num_sims):\n",
    "            bikeshare = State(A=N_start_A, B=N_start_B, C=N_start_C, A_empty=0, B_empty=0, C_empty=0)\n",
    "            do_plot = False\n",
    "            total_unsatisfied = run_simulation(bikeshare, p_AB, p_BA, p_AC, p_CA, p_BC, p_CB, 180, do_plot)\n",
    "\n",
    "            #print(\"Total unsatisfied customers: \", j, total_unsatisfied)\n",
    "            tu_sum += total_unsatisfied\n",
    "    \n",
    "        print(\"Average unsatisfied customers: \", tu_sum/(1.0*num_sims))\n",
    "        tu_avg.append(tu_sum/(1.0*num_sims))\n",
    "    \n"
   ]
  },
  {
   "cell_type": "markdown",
   "id": "vital-journal",
   "metadata": {},
   "source": []
  },
  {
   "cell_type": "markdown",
   "id": "fleet-beijing",
   "metadata": {
    "tags": []
   },
   "source": []
  },
  {
   "cell_type": "code",
   "execution_count": 15,
   "id": "basic-fabric",
   "metadata": {
    "tags": [],
    "ExecuteTime": {
     "end_time": "2023-10-29T20:15:13.239057Z",
     "start_time": "2023-10-29T20:15:12.989961Z"
    }
   },
   "outputs": [
    {
     "data": {
      "text/plain": "<matplotlib.legend.Legend at 0x129172590>"
     },
     "execution_count": 15,
     "metadata": {},
     "output_type": "execute_result"
    },
    {
     "data": {
      "text/plain": "<Figure size 1575x525 with 2 Axes>",
      "image/png": "[encoded data removed]"
     },
     "metadata": {},
     "output_type": "display_data"
    }
   ],
   "source": [
    "tu_avg_error = 1/np.sqrt(num_sims)*np.array(tu_avg)\n",
    "\n",
    "fig, ax = plt.subplots(1,2,figsize=(21,7))\n",
    "\n",
    "ax[0].errorbar(nstartA, tu_avg, tu_avg_error, fmt='.', label='Average unsatisfied customers')\n",
    "ax[0].set_xlabel('Number of starting bikes at A')\n",
    "ax[0].set_ylabel('Average number of unsatisfied customers')\n",
    "ax[0].set_ylim(0)\n",
    "ax[0].legend()\n",
    "ax[1].errorbar(nstartB, tu_avg, tu_avg_error, fmt='.', label='Average unsatisfied customers')\n",
    "ax[1].set_xlabel('Number of starting bikes at B')\n",
    "ax[1].set_ylabel('Average number of unsatisfied customers')\n",
    "ax[1].set_ylim(0)\n",
    "ax[1].legend()"
   ]
  },
  {
   "cell_type": "markdown",
   "id": "specified-definition",
   "metadata": {
    "tags": []
   },
   "source": []
  },
  {
   "cell_type": "markdown",
   "id": "delayed-ocean",
   "metadata": {},
   "source": []
  },
  {
   "cell_type": "code",
   "execution_count": 4,
   "id": "floppy-trainer",
   "metadata": {
    "ExecuteTime": {
     "end_time": "2023-09-24T15:02:47.090029Z",
     "start_time": "2023-09-24T15:02:47.002902Z"
    }
   },
   "outputs": [],
   "source": []
  },
  {
   "cell_type": "markdown",
   "id": "natural-gossip",
   "metadata": {},
   "source": []
  },
  {
   "cell_type": "code",
   "execution_count": 4,
   "id": "hungarian-bride",
   "metadata": {
    "ExecuteTime": {
     "end_time": "2023-09-24T15:02:47.090128Z",
     "start_time": "2023-09-24T15:02:47.006546Z"
    }
   },
   "outputs": [],
   "source": []
  },
  {
   "cell_type": "markdown",
   "id": "radical-mills",
   "metadata": {},
   "source": []
  },
  {
   "cell_type": "markdown",
   "id": "controversial-opportunity",
   "metadata": {},
   "source": []
  },
  {
   "cell_type": "code",
   "execution_count": 4,
   "id": "vertical-drawing",
   "metadata": {
    "ExecuteTime": {
     "end_time": "2023-09-24T15:02:47.090210Z",
     "start_time": "2023-09-24T15:02:47.009634Z"
    }
   },
   "outputs": [],
   "source": []
  },
  {
   "cell_type": "markdown",
   "id": "approximate-rolling",
   "metadata": {},
   "source": []
  },
  {
   "cell_type": "code",
   "execution_count": 4,
   "id": "significant-nutrition",
   "metadata": {
    "ExecuteTime": {
     "end_time": "2023-09-24T15:02:47.090292Z",
     "start_time": "2023-09-24T15:02:47.016597Z"
    }
   },
   "outputs": [],
   "source": []
  },
  {
   "cell_type": "markdown",
   "id": "generous-tracker",
   "metadata": {},
   "source": []
  },
  {
   "cell_type": "code",
   "execution_count": 4,
   "id": "moving-jurisdiction",
   "metadata": {
    "ExecuteTime": {
     "end_time": "2023-09-24T15:02:47.090374Z",
     "start_time": "2023-09-24T15:02:47.020312Z"
    }
   },
   "outputs": [],
   "source": []
  },
  {
   "cell_type": "markdown",
   "id": "meaningful-christmas",
   "metadata": {},
   "source": []
  },
  {
   "cell_type": "code",
   "execution_count": 4,
   "id": "proper-symposium",
   "metadata": {
    "ExecuteTime": {
     "end_time": "2023-09-24T15:02:47.090451Z",
     "start_time": "2023-09-24T15:02:47.023370Z"
    }
   },
   "outputs": [],
   "source": []
  },
  {
   "cell_type": "markdown",
   "id": "eleven-brook",
   "metadata": {},
   "source": []
  },
  {
   "cell_type": "code",
   "execution_count": 4,
   "id": "identical-yacht",
   "metadata": {
    "ExecuteTime": {
     "end_time": "2023-09-24T15:02:47.090527Z",
     "start_time": "2023-09-24T15:02:47.026423Z"
    }
   },
   "outputs": [],
   "source": []
  },
  {
   "cell_type": "markdown",
   "id": "premier-youth",
   "metadata": {},
   "source": []
  },
  {
   "cell_type": "markdown",
   "id": "brazilian-medicare",
   "metadata": {},
   "source": []
  },
  {
   "cell_type": "code",
   "execution_count": 4,
   "id": "heavy-patrol",
   "metadata": {
    "ExecuteTime": {
     "end_time": "2023-09-24T15:02:47.090602Z",
     "start_time": "2023-09-24T15:02:47.030354Z"
    }
   },
   "outputs": [],
   "source": []
  },
  {
   "cell_type": "markdown",
   "id": "ancient-projection",
   "metadata": {},
   "source": []
  },
  {
   "cell_type": "code",
   "execution_count": 4,
   "id": "french-preference",
   "metadata": {
    "ExecuteTime": {
     "end_time": "2023-09-24T15:02:47.090706Z",
     "start_time": "2023-09-24T15:02:47.033572Z"
    }
   },
   "outputs": [],
   "source": []
  },
  {
   "cell_type": "markdown",
   "id": "original-hollywood",
   "metadata": {},
   "source": []
  },
  {
   "cell_type": "code",
   "execution_count": 4,
   "id": "alternative-keyboard",
   "metadata": {
    "ExecuteTime": {
     "end_time": "2023-09-24T15:02:47.090788Z",
     "start_time": "2023-09-24T15:02:47.036378Z"
    }
   },
   "outputs": [],
   "source": []
  },
  {
   "cell_type": "markdown",
   "id": "described-produce",
   "metadata": {},
   "source": []
  },
  {
   "cell_type": "code",
   "execution_count": 4,
   "id": "robust-holly",
   "metadata": {
    "ExecuteTime": {
     "end_time": "2023-09-24T15:02:47.090866Z",
     "start_time": "2023-09-24T15:02:47.039593Z"
    }
   },
   "outputs": [],
   "source": []
  },
  {
   "cell_type": "markdown",
   "id": "vital-lender",
   "metadata": {},
   "source": []
  },
  {
   "cell_type": "code",
   "execution_count": 4,
   "id": "fifteen-atmosphere",
   "metadata": {
    "ExecuteTime": {
     "end_time": "2023-09-24T15:02:47.090973Z",
     "start_time": "2023-09-24T15:02:47.042490Z"
    }
   },
   "outputs": [],
   "source": []
  },
  {
   "cell_type": "markdown",
   "id": "requested-glasgow",
   "metadata": {},
   "source": []
  },
  {
   "cell_type": "code",
   "execution_count": 4,
   "id": "matched-narrow",
   "metadata": {
    "ExecuteTime": {
     "end_time": "2023-09-24T15:02:47.106530Z",
     "start_time": "2023-09-24T15:02:47.047583Z"
    }
   },
   "outputs": [],
   "source": []
  },
  {
   "cell_type": "markdown",
   "id": "sitting-semiconductor",
   "metadata": {},
   "source": []
  },
  {
   "cell_type": "markdown",
   "id": "enhanced-maintenance",
   "metadata": {},
   "source": []
  },
  {
   "cell_type": "code",
   "execution_count": 4,
   "id": "29c1f41a",
   "metadata": {
    "tags": [],
    "ExecuteTime": {
     "end_time": "2023-09-24T15:02:47.106812Z",
     "start_time": "2023-09-24T15:02:47.050762Z"
    }
   },
   "outputs": [],
   "source": []
  },
  {
   "cell_type": "code",
   "execution_count": 4,
   "id": "illegal-metropolitan",
   "metadata": {
    "ExecuteTime": {
     "end_time": "2023-09-24T15:02:47.106912Z",
     "start_time": "2023-09-24T15:02:47.053858Z"
    }
   },
   "outputs": [],
   "source": []
  },
  {
   "cell_type": "markdown",
   "id": "appropriate-funds",
   "metadata": {},
   "source": []
  },
  {
   "cell_type": "code",
   "execution_count": 4,
   "id": "excessive-murder",
   "metadata": {
    "ExecuteTime": {
     "end_time": "2023-09-24T15:02:47.107001Z",
     "start_time": "2023-09-24T15:02:47.057119Z"
    }
   },
   "outputs": [],
   "source": []
  },
  {
   "cell_type": "markdown",
   "id": "seventh-profile",
   "metadata": {},
   "source": []
  },
  {
   "cell_type": "code",
   "execution_count": 4,
   "id": "fundamental-nursing",
   "metadata": {
    "ExecuteTime": {
     "end_time": "2023-09-24T15:02:47.107083Z",
     "start_time": "2023-09-24T15:02:47.061211Z"
    }
   },
   "outputs": [],
   "source": [
    "  "
   ]
  },
  {
   "cell_type": "markdown",
   "id": "recovered-chemical",
   "metadata": {},
   "source": []
  },
  {
   "cell_type": "code",
   "execution_count": 4,
   "id": "twenty-health",
   "metadata": {
    "ExecuteTime": {
     "end_time": "2023-09-24T15:02:47.309445Z",
     "start_time": "2023-09-24T15:02:47.065228Z"
    }
   },
   "outputs": [],
   "source": []
  },
  {
   "cell_type": "markdown",
   "id": "difficult-construction",
   "metadata": {},
   "source": []
  },
  {
   "cell_type": "code",
   "execution_count": 4,
   "id": "played-character",
   "metadata": {
    "ExecuteTime": {
     "end_time": "2023-09-24T15:02:47.309633Z",
     "start_time": "2023-09-24T15:02:47.070325Z"
    }
   },
   "outputs": [],
   "source": []
  },
  {
   "cell_type": "markdown",
   "id": "standard-party",
   "metadata": {},
   "source": []
  },
  {
   "cell_type": "code",
   "execution_count": 4,
   "id": "ecological-colon",
   "metadata": {
    "ExecuteTime": {
     "end_time": "2023-09-24T15:02:47.309730Z",
     "start_time": "2023-09-24T15:02:47.074009Z"
    }
   },
   "outputs": [],
   "source": []
  },
  {
   "cell_type": "markdown",
   "id": "amateur-exposure",
   "metadata": {},
   "source": []
  },
  {
   "cell_type": "code",
   "execution_count": 4,
   "id": "mediterranean-german",
   "metadata": {
    "ExecuteTime": {
     "end_time": "2023-09-24T15:02:47.309809Z",
     "start_time": "2023-09-24T15:02:47.076822Z"
    }
   },
   "outputs": [],
   "source": []
  },
  {
   "cell_type": "markdown",
   "id": "sought-mobile",
   "metadata": {},
   "source": []
  },
  {
   "cell_type": "markdown",
   "id": "organic-proportion",
   "metadata": {},
   "source": []
  },
  {
   "cell_type": "code",
   "execution_count": 4,
   "id": "hollywood-shopping",
   "metadata": {
    "ExecuteTime": {
     "end_time": "2023-09-24T15:02:47.309886Z",
     "start_time": "2023-09-24T15:02:47.081085Z"
    }
   },
   "outputs": [],
   "source": []
  },
  {
   "cell_type": "markdown",
   "id": "encouraging-arkansas",
   "metadata": {},
   "source": []
  },
  {
   "cell_type": "code",
   "execution_count": 4,
   "id": "buried-alert",
   "metadata": {
    "ExecuteTime": {
     "end_time": "2023-09-24T15:02:47.309962Z",
     "start_time": "2023-09-24T15:02:47.084653Z"
    }
   },
   "outputs": [],
   "source": []
  },
  {
   "cell_type": "markdown",
   "id": "aggregate-dynamics",
   "metadata": {},
   "source": []
  },
  {
   "cell_type": "code",
   "execution_count": 4,
   "id": "recognized-denmark",
   "metadata": {
    "ExecuteTime": {
     "end_time": "2023-09-24T15:02:47.415877Z",
     "start_time": "2023-09-24T15:02:47.088370Z"
    }
   },
   "outputs": [],
   "source": []
  },
  {
   "cell_type": "markdown",
   "id": "raised-museum",
   "metadata": {},
   "source": []
  },
  {
   "cell_type": "markdown",
   "id": "scenic-african",
   "metadata": {},
   "source": []
  },
  {
   "cell_type": "code",
   "execution_count": 4,
   "id": "polish-river",
   "metadata": {
    "ExecuteTime": {
     "end_time": "2023-09-24T15:02:47.416478Z",
     "start_time": "2023-09-24T15:02:47.092340Z"
    }
   },
   "outputs": [],
   "source": []
  },
  {
   "cell_type": "markdown",
   "id": "compatible-conspiracy",
   "metadata": {},
   "source": []
  },
  {
   "cell_type": "markdown",
   "id": "breeding-groove",
   "metadata": {},
   "source": []
  },
  {
   "cell_type": "code",
   "execution_count": 4,
   "outputs": [],
   "source": [],
   "metadata": {
    "collapsed": false,
    "ExecuteTime": {
     "end_time": "2023-09-24T15:02:47.416577Z",
     "start_time": "2023-09-24T15:02:47.095708Z"
    }
   },
   "id": "8f318e6f58ef96c"
  },
  {
   "cell_type": "code",
   "execution_count": 4,
   "id": "every-consultation",
   "metadata": {
    "ExecuteTime": {
     "end_time": "2023-09-24T15:02:47.417743Z",
     "start_time": "2023-09-24T15:02:47.099519Z"
    }
   },
   "outputs": [],
   "source": []
  },
  {
   "cell_type": "markdown",
   "id": "cross-sharp",
   "metadata": {},
   "source": []
  },
  {
   "cell_type": "code",
   "execution_count": 4,
   "id": "changing-planet",
   "metadata": {
    "ExecuteTime": {
     "end_time": "2023-09-24T15:02:47.460253Z",
     "start_time": "2023-09-24T15:02:47.104502Z"
    }
   },
   "outputs": [],
   "source": []
  },
  {
   "cell_type": "markdown",
   "id": "attractive-revision",
   "metadata": {},
   "source": []
  },
  {
   "cell_type": "code",
   "execution_count": 4,
   "id": "aquatic-richardson",
   "metadata": {
    "ExecuteTime": {
     "end_time": "2023-09-24T15:02:47.460488Z",
     "start_time": "2023-09-24T15:02:47.108264Z"
    }
   },
   "outputs": [],
   "source": []
  },
  {
   "cell_type": "markdown",
   "id": "searching-funeral",
   "metadata": {},
   "source": []
  },
  {
   "cell_type": "code",
   "execution_count": 4,
   "id": "english-titanium",
   "metadata": {
    "ExecuteTime": {
     "end_time": "2023-09-24T15:02:47.460595Z",
     "start_time": "2023-09-24T15:02:47.111966Z"
    }
   },
   "outputs": [],
   "source": []
  },
  {
   "cell_type": "markdown",
   "id": "prospective-joining",
   "metadata": {},
   "source": []
  },
  {
   "cell_type": "code",
   "execution_count": 4,
   "id": "indonesian-singing",
   "metadata": {
    "ExecuteTime": {
     "end_time": "2023-09-24T15:02:47.460678Z",
     "start_time": "2023-09-24T15:02:47.122215Z"
    }
   },
   "outputs": [],
   "source": []
  },
  {
   "cell_type": "markdown",
   "id": "small-encoding",
   "metadata": {},
   "source": []
  },
  {
   "cell_type": "markdown",
   "id": "following-contrary",
   "metadata": {},
   "source": []
  },
  {
   "cell_type": "code",
   "execution_count": 4,
   "id": "saved-hands",
   "metadata": {
    "ExecuteTime": {
     "end_time": "2023-09-24T15:02:47.460755Z",
     "start_time": "2023-09-24T15:02:47.125111Z"
    }
   },
   "outputs": [],
   "source": []
  },
  {
   "cell_type": "markdown",
   "id": "egyptian-korea",
   "metadata": {},
   "source": []
  },
  {
   "cell_type": "markdown",
   "id": "limited-interstate",
   "metadata": {},
   "source": []
  },
  {
   "cell_type": "markdown",
   "id": "fallen-surprise",
   "metadata": {},
   "source": [
    "\n"
   ]
  },
  {
   "cell_type": "markdown",
   "id": "capital-internship",
   "metadata": {},
   "source": []
  },
  {
   "cell_type": "code",
   "execution_count": 4,
   "id": "helpful-zambia",
   "metadata": {
    "ExecuteTime": {
     "end_time": "2023-09-24T15:02:47.460830Z",
     "start_time": "2023-09-24T15:02:47.128925Z"
    }
   },
   "outputs": [],
   "source": []
  },
  {
   "cell_type": "markdown",
   "id": "dirty-multiple",
   "metadata": {},
   "source": []
  },
  {
   "cell_type": "code",
   "execution_count": 4,
   "id": "beneficial-mainland",
   "metadata": {
    "ExecuteTime": {
     "end_time": "2023-09-24T15:02:47.460904Z",
     "start_time": "2023-09-24T15:02:47.132400Z"
    }
   },
   "outputs": [],
   "source": []
  },
  {
   "cell_type": "markdown",
   "id": "christian-madrid",
   "metadata": {},
   "source": [
    "\n"
   ]
  },
  {
   "cell_type": "code",
   "execution_count": 4,
   "id": "former-frost",
   "metadata": {
    "ExecuteTime": {
     "end_time": "2023-09-24T15:02:47.460980Z",
     "start_time": "2023-09-24T15:02:47.136157Z"
    }
   },
   "outputs": [],
   "source": []
  },
  {
   "cell_type": "code",
   "execution_count": 4,
   "id": "spare-honduras",
   "metadata": {
    "ExecuteTime": {
     "end_time": "2023-09-24T15:02:47.461056Z",
     "start_time": "2023-09-24T15:02:47.138720Z"
    }
   },
   "outputs": [],
   "source": []
  },
  {
   "cell_type": "markdown",
   "id": "instructional-finnish",
   "metadata": {},
   "source": [
    "## Under the Hood\n",
    "\n",
    "This section contains additional information about the functions we've used and pointers to their documentation.\n",
    "\n",
    "You don't need to know anything in this section, so if you are already feeling overwhelmed, you might want to skip it.\n",
    "But if you are curious, read on."
   ]
  },
  {
   "cell_type": "markdown",
   "id": "quick-citizen",
   "metadata": {},
   "source": [
    "`State` and `TimeSeries` objects are based on the `Series` object defined by the Pandas library.\n",
    "The documentation is at <https://pandas.pydata.org/pandas-docs/stable/reference/api/pandas.Series.html>.\n",
    "\n",
    "`Series` objects provide their own `plot` function, which is why we call it like this:\n",
    "\n",
    "```\n",
    "results.plot()\n",
    "```\n",
    "\n",
    "Instead of like this:\n",
    "\n",
    "```\n",
    "plot(results)\n",
    "```\n",
    "\n",
    "You can read the documentation of `Series.plot` at <https://pandas.pydata.org/pandas-docs/stable/reference/api/pandas.Series.plot.html>."
   ]
  },
  {
   "cell_type": "markdown",
   "id": "digital-stretch",
   "metadata": {},
   "source": [
    "`decorate` is based on Matplotlib, which is a widely used plotting library for Python.  Matplotlib provides separate functions for `title`, `xlabel`, and `ylabel`.\n",
    "`decorate` makes them a little easier to use.\n",
    "For the list of keyword arguments you can pass to `decorate`, see <https://matplotlib.org/3.2.2/api/axes_api.html?highlight=axes#module-matplotlib.axes>.\n",
    "\n",
    "The `flip` function uses NumPy's `random` function to generate a random number between 0 and 1, then returns `True` or `False` with the given probability.\n",
    "\n",
    "You can get the source code for `flip` (or any other function) by running the following cell."
   ]
  },
  {
   "cell_type": "code",
   "execution_count": 5,
   "id": "agricultural-midwest",
   "metadata": {
    "ExecuteTime": {
     "end_time": "2023-09-24T15:02:47.461245Z",
     "start_time": "2023-09-24T15:02:47.142085Z"
    }
   },
   "outputs": [
    {
     "name": "stdout",
     "output_type": "stream",
     "text": [
      "def flip(p=0.5):\n",
      "    \"\"\"Flips a coin with the given probability.\n",
      "\n",
      "    p: float 0-1\n",
      "\n",
      "    returns: boolean (True or False)\n",
      "    \"\"\"\n",
      "    return np.random.random() < p\n"
     ]
    }
   ],
   "source": [
    "source_code(flip)"
   ]
  },
  {
   "cell_type": "code",
   "execution_count": 5,
   "id": "junior-lindsay",
   "metadata": {
    "ExecuteTime": {
     "end_time": "2023-09-24T15:02:47.461324Z",
     "start_time": "2023-09-24T15:02:47.146928Z"
    }
   },
   "outputs": [],
   "source": []
  },
  {
   "cell_type": "code",
   "execution_count": 5,
   "outputs": [],
   "source": [],
   "metadata": {
    "collapsed": false,
    "ExecuteTime": {
     "end_time": "2023-09-24T15:02:47.461399Z",
     "start_time": "2023-09-24T15:02:47.150879Z"
    }
   },
   "id": "9c2ef8f0c1c32f7"
  }
 ],
 "metadata": {
  "celltoolbar": "Tags",
  "kernelspec": {
   "display_name": "Python 3 (ipykernel)",
   "language": "python",
   "name": "python3"
  },
  "language_info": {
   "codemirror_mode": {
    "name": "ipython",
    "version": 3
   },
   "file_extension": ".py",
   "mimetype": "text/x-python",
   "name": "python",
   "nbconvert_exporter": "python",
   "pygments_lexer": "ipython3",
   "version": "3.10.6"
  }
 },
 "nbformat": 4,
 "nbformat_minor": 5
}
