{
 "cells": [
  {
   "cell_type": "code",
   "execution_count": 1,
   "metadata": {
    "ExecuteTime": {
     "end_time": "2023-12-10T00:03:46.985455Z",
     "start_time": "2023-12-10T00:03:45.961656Z"
    }
   },
   "outputs": [
    {
     "name": "stdout",
     "output_type": "stream",
     "text": [
      "<class 'pandas.core.frame.DataFrame'>\n",
      "RangeIndex: 26 entries, 0 to 25\n",
      "Data columns (total 29 columns):\n",
      " #   Column                               Non-Null Count  Dtype  \n",
      "---  ------                               --------------  -----  \n",
      " 0   Last name                            26 non-null     object \n",
      " 1   First name                           26 non-null     object \n",
      " 2   Primary email                        26 non-null     object \n",
      " 3   Student ID                           26 non-null     int64  \n",
      " 4   Reading 1 (82)                       26 non-null     float64\n",
      " 5   Reading 2 (274)                      26 non-null     float64\n",
      " 6   Reading 3 (31)                       26 non-null     float64\n",
      " 7   Reading 4/5 (408)                    26 non-null     float64\n",
      " 8   Midterm Test 1 (50)                  26 non-null     int64  \n",
      " 9   Reading 6/7/8 (341)                  26 non-null     float64\n",
      " 10  Reading 9 (26)                       26 non-null     int64  \n",
      " 11  Reading 10/11/12 (288)               26 non-null     float64\n",
      " 12  Reading Chapter 14 (196)             26 non-null     float64\n",
      " 13  Reading 15 (109)                     26 non-null     float64\n",
      " 14  Midterm Exam 2 (40)                  26 non-null     float64\n",
      " 15  Homework Assignment 1 (62)           26 non-null     int64  \n",
      " 16  Homework Assignment 10/11/12 (80)    26 non-null     float64\n",
      " 17  Homework Assignment 15 (50)          26 non-null     int64  \n",
      " 18  Homework Assignment 2 (125)          26 non-null     float64\n",
      " 19  Homework Assignment 3 (26)           26 non-null     float64\n",
      " 20  Homework Assignment 4/5 (90)         26 non-null     float64\n",
      " 21  Homework Assignment 6/7/8 (93)       26 non-null     float64\n",
      " 22  Homework Assignment 9 (60)           26 non-null     float64\n",
      " 23  Homework Assignment Chapter 14 (40)  26 non-null     float64\n",
      " 24  Project 1 - Part 1 (10)              26 non-null     int64  \n",
      " 25  Project 1 - Part 2 (31)              26 non-null     float64\n",
      " 26  Final Exam (87)                      26 non-null     float64\n",
      " 27  Homework Assignment 16/17 (100)      26 non-null     int64  \n",
      " 28  Reading 16/17 (87)                   26 non-null     int64  \n",
      "dtypes: float64(18), int64(8), object(3)\n",
      "memory usage: 6.0+ KB\n"
     ]
    }
   ],
   "source": [
    "import numpy as np\n",
    "import matplotlib.pyplot as plt\n",
    "import pandas as pd\n",
    "   \n",
    "df = pd.read_csv('CPSC256_Grades_Fall2023.csv')\n",
    "df.info()"
   ]
  },
  {
   "cell_type": "code",
   "execution_count": 2,
   "metadata": {
    "ExecuteTime": {
     "end_time": "2023-12-10T00:03:47.086679Z",
     "start_time": "2023-12-10T00:03:47.058034Z"
    }
   },
   "outputs": [
    {
     "name": "stdout",
     "output_type": "stream",
     "text": [
      "<class 'pandas.core.frame.DataFrame'>\n",
      "RangeIndex: 26 entries, 0 to 25\n",
      "Data columns (total 32 columns):\n",
      " #   Column                               Non-Null Count  Dtype  \n",
      "---  ------                               --------------  -----  \n",
      " 0   Last name                            26 non-null     object \n",
      " 1   First name                           26 non-null     object \n",
      " 2   Primary email                        26 non-null     object \n",
      " 3   Student ID                           26 non-null     int64  \n",
      " 4   Reading 1 (82)                       26 non-null     float64\n",
      " 5   Reading 2 (274)                      26 non-null     float64\n",
      " 6   Reading 3 (31)                       26 non-null     float64\n",
      " 7   Reading 4/5 (408)                    26 non-null     float64\n",
      " 8   Midterm Test 1 (50)                  26 non-null     int64  \n",
      " 9   Reading 6/7/8 (341)                  26 non-null     float64\n",
      " 10  Reading 9 (26)                       26 non-null     int64  \n",
      " 11  Reading 10/11/12 (288)               26 non-null     float64\n",
      " 12  Reading Chapter 14 (196)             26 non-null     float64\n",
      " 13  Reading 15 (109)                     26 non-null     float64\n",
      " 14  Midterm Exam 2 (40)                  26 non-null     float64\n",
      " 15  Homework Assignment 1 (62)           26 non-null     int64  \n",
      " 16  Homework Assignment 10/11/12 (80)    26 non-null     float64\n",
      " 17  Homework Assignment 15 (50)          26 non-null     int64  \n",
      " 18  Homework Assignment 2 (125)          26 non-null     float64\n",
      " 19  Homework Assignment 3 (26)           26 non-null     float64\n",
      " 20  Homework Assignment 4/5 (90)         26 non-null     float64\n",
      " 21  Homework Assignment 6/7/8 (93)       26 non-null     float64\n",
      " 22  Homework Assignment 9 (60)           26 non-null     float64\n",
      " 23  Homework Assignment Chapter 14 (40)  26 non-null     float64\n",
      " 24  Project 1 - Part 1 (10)              26 non-null     int64  \n",
      " 25  Project 1 - Part 2 (31)              26 non-null     float64\n",
      " 26  Final Exam (87)                      26 non-null     float64\n",
      " 27  Homework Assignment 16/17 (100)      26 non-null     int64  \n",
      " 28  Reading 16/17 (87)                   26 non-null     int64  \n",
      " 29  HW                                   26 non-null     float64\n",
      " 30  Reading                              26 non-null     float64\n",
      " 31  Final Numerical Grade                26 non-null     float64\n",
      "dtypes: float64(21), int64(8), object(3)\n",
      "memory usage: 6.6+ KB\n"
     ]
    }
   ],
   "source": [
    "df_hw = df.iloc[:, [15,16,17,18,19,20,21,22,23,24,25]]\n",
    "df['HW'] = df_hw.sum(axis=1)/11.0\n",
    "df_reading = df.iloc[:, [4,5,6,7,9,10,11,12,13]]\n",
    "df['Reading'] = df_reading.sum(axis=1)/9.0\n",
    "df['Final Numerical Grade'] = df['Midterm Test 1 (50)']/100.0*10.0 + df['Midterm Exam 2 (40)']/100.0*10.0+ df['Final Exam (87)']/100.0*30.0 + df['HW']/100.0*30.0 + df['Reading']/100.0*20.0\n",
    "df.info()"
   ]
  },
  {
   "cell_type": "code",
   "execution_count": 3,
   "metadata": {
    "ExecuteTime": {
     "end_time": "2023-12-10T00:03:47.108692Z",
     "start_time": "2023-12-10T00:03:47.062718Z"
    }
   },
   "outputs": [
    {
     "name": "stderr",
     "output_type": "stream",
     "text": [
      "/var/folders/d9/ngkc_5vd72jcm31m7dcphclh0000gn/T/ipykernel_21345/4258819969.py:2: SettingWithCopyWarning: \n",
      "A value is trying to be set on a copy of a slice from a DataFrame.\n",
      "Try using .loc[row_indexer,col_indexer] = value instead\n",
      "\n",
      "See the caveats in the documentation: https://pandas.pydata.org/pandas-docs/stable/user_guide/indexing.html#returning-a-view-versus-a-copy\n",
      "  df_final['Final Letter Grade'] = pd.cut(df_final['Final Numerical Grade'], bins=[0, 49.5, 53.0, 57.0, 59.5, 63.0, 67.0, 69.5, 73.0, 77.0, 79.5, 86.5, 100], labels= ['F', 'D-', 'D', 'D+', 'C-', 'C', 'C+',  'B-', 'B', 'B+', 'A-', 'A'])\n"
     ]
    },
    {
     "data": {
      "text/plain": "     Last name   First name  Student ID     Reading          HW  \\\n0        Barry         Ryan     1009269   80.121111   93.088182   \n1      Chapman      William     1016615  100.000000   94.900000   \n2    Collignon  Christopher     1000162   91.743333  100.000000   \n3      Donohue        Tyler     1006893   88.888889   93.580000   \n4        Haney         Evan     1006717  100.000000  100.000000   \n5      Harwood         Remy      998216  100.000000   98.624545   \n6   Hausknecht         John     1030554  100.000000   99.431818   \n7         Hill        Ethan     1028377   11.111111   94.428182   \n8      Kolasch         Luke     1008671  100.000000  100.000000   \n9       Ledger         Ryan     1004866   95.242222   98.257273   \n10       Legum       Ashton     1008320  100.000000   99.659091   \n11       Lopez        Cesar     1008529   97.076667   92.479091   \n12    McEachin         Sean      989684   72.357778   55.896364   \n13      Murphy        Aidan     1016690   88.850000   78.990909   \n14      Newlin     Benjamin     1005166   69.423222   97.727273   \n15   Prochazka        Aidan     1008378   97.955556   98.924545   \n16       Quach         Ngan      995424  100.000000  100.000000   \n17       Quick        Kenny     1014317  100.000000  100.000000   \n18        Rose         Will      996464   99.928889   76.610000   \n19       Rosen        Ethan     1007205   77.777778   87.750000   \n20        Sage         Evan     1005189   69.467778   53.583636   \n21       Sanat         Evan      998015  100.000000   98.169091   \n22     Simpson      Jillian      970813   99.716667   77.946000   \n23     Striano       Joshua      986842  100.000000   99.218182   \n24       Voell        Titus     1012226   82.874444   99.115455   \n25    Zannelli    Alexander      986084   93.674444   81.818182   \n\n    Midterm Test 1 (50)  Midterm Exam 2 (40)  Final Exam (87)  \\\n0                   100                 75.0            74.71   \n1                   100                100.0            78.16   \n2                   100                100.0           100.00   \n3                    72                 82.5            77.01   \n4                   100                100.0            70.11   \n5                   100                100.0            68.97   \n6                   100                100.0            97.70   \n7                    94                100.0            98.85   \n8                   100                100.0            74.71   \n9                   100                100.0            66.67   \n10                  100                100.0            64.37   \n11                  100                100.0            77.01   \n12                  100                100.0            87.36   \n13                  100                100.0            72.41   \n14                   94                100.0            74.71   \n15                  100                100.0            85.06   \n16                  100                100.0            77.01   \n17                   94                100.0            73.56   \n18                   94                 80.0            77.01   \n19                  100                 75.0            77.01   \n20                  100                100.0            78.16   \n21                   84                100.0            68.97   \n22                  100                100.0            74.71   \n23                  100                100.0            78.16   \n24                  100                100.0            70.11   \n25                  100                100.0            97.70   \n\n    Final Numerical Grade Final Letter Grade  \n0               83.863677                 A-  \n1               91.918000                  A  \n2               98.348667                  A  \n3               84.404778                 A-  \n4               91.033000                  A  \n5               90.278364                  A  \n6               99.139545                  A  \n7               79.605677                 A-  \n8               92.413000                  A  \n9               88.526626                  A  \n10              89.208727                  A  \n11              90.262061                  A  \n12              77.448465                 B+  \n13              83.190273                 A-  \n14              85.015826                 A-  \n15              94.786475                  A  \n16              93.103000                  A  \n17              91.468000                  A  \n18              83.471778                 A-  \n19              82.483556                 A-  \n20              73.416646                  B  \n21              88.541727                  A  \n22              85.740133                 A-  \n23              93.213455                  A  \n24              87.342525                  A  \n25              92.590343                  A  ",
      "text/html": "<div>\n<style scoped>\n    .dataframe tbody tr th:only-of-type {\n        vertical-align: middle;\n    }\n\n    .dataframe tbody tr th {\n        vertical-align: top;\n    }\n\n    .dataframe thead th {\n        text-align: right;\n    }\n</style>\n<table border=\"1\" class=\"dataframe\">\n  <thead>\n    <tr style=\"text-align: right;\">\n      <th></th>\n      <th>Last name</th>\n      <th>First name</th>\n      <th>Student ID</th>\n      <th>Reading</th>\n      <th>HW</th>\n      <th>Midterm Test 1 (50)</th>\n      <th>Midterm Exam 2 (40)</th>\n      <th>Final Exam (87)</th>\n      <th>Final Numerical Grade</th>\n      <th>Final Letter Grade</th>\n    </tr>\n  </thead>\n  <tbody>\n    <tr>\n      <th>0</th>\n      <td>Barry</td>\n      <td>Ryan</td>\n      <td>1009269</td>\n      <td>80.121111</td>\n      <td>93.088182</td>\n      <td>100</td>\n      <td>75.0</td>\n      <td>74.71</td>\n      <td>83.863677</td>\n      <td>A-</td>\n    </tr>\n    <tr>\n      <th>1</th>\n      <td>Chapman</td>\n      <td>William</td>\n      <td>1016615</td>\n      <td>100.000000</td>\n      <td>94.900000</td>\n      <td>100</td>\n      <td>100.0</td>\n      <td>78.16</td>\n      <td>91.918000</td>\n      <td>A</td>\n    </tr>\n    <tr>\n      <th>2</th>\n      <td>Collignon</td>\n      <td>Christopher</td>\n      <td>1000162</td>\n      <td>91.743333</td>\n      <td>100.000000</td>\n      <td>100</td>\n      <td>100.0</td>\n      <td>100.00</td>\n      <td>98.348667</td>\n      <td>A</td>\n    </tr>\n    <tr>\n      <th>3</th>\n      <td>Donohue</td>\n      <td>Tyler</td>\n      <td>1006893</td>\n      <td>88.888889</td>\n      <td>93.580000</td>\n      <td>72</td>\n      <td>82.5</td>\n      <td>77.01</td>\n      <td>84.404778</td>\n      <td>A-</td>\n    </tr>\n    <tr>\n      <th>4</th>\n      <td>Haney</td>\n      <td>Evan</td>\n      <td>1006717</td>\n      <td>100.000000</td>\n      <td>100.000000</td>\n      <td>100</td>\n      <td>100.0</td>\n      <td>70.11</td>\n      <td>91.033000</td>\n      <td>A</td>\n    </tr>\n    <tr>\n      <th>5</th>\n      <td>Harwood</td>\n      <td>Remy</td>\n      <td>998216</td>\n      <td>100.000000</td>\n      <td>98.624545</td>\n      <td>100</td>\n      <td>100.0</td>\n      <td>68.97</td>\n      <td>90.278364</td>\n      <td>A</td>\n    </tr>\n    <tr>\n      <th>6</th>\n      <td>Hausknecht</td>\n      <td>John</td>\n      <td>1030554</td>\n      <td>100.000000</td>\n      <td>99.431818</td>\n      <td>100</td>\n      <td>100.0</td>\n      <td>97.70</td>\n      <td>99.139545</td>\n      <td>A</td>\n    </tr>\n    <tr>\n      <th>7</th>\n      <td>Hill</td>\n      <td>Ethan</td>\n      <td>1028377</td>\n      <td>11.111111</td>\n      <td>94.428182</td>\n      <td>94</td>\n      <td>100.0</td>\n      <td>98.85</td>\n      <td>79.605677</td>\n      <td>A-</td>\n    </tr>\n    <tr>\n      <th>8</th>\n      <td>Kolasch</td>\n      <td>Luke</td>\n      <td>1008671</td>\n      <td>100.000000</td>\n      <td>100.000000</td>\n      <td>100</td>\n      <td>100.0</td>\n      <td>74.71</td>\n      <td>92.413000</td>\n      <td>A</td>\n    </tr>\n    <tr>\n      <th>9</th>\n      <td>Ledger</td>\n      <td>Ryan</td>\n      <td>1004866</td>\n      <td>95.242222</td>\n      <td>98.257273</td>\n      <td>100</td>\n      <td>100.0</td>\n      <td>66.67</td>\n      <td>88.526626</td>\n      <td>A</td>\n    </tr>\n    <tr>\n      <th>10</th>\n      <td>Legum</td>\n      <td>Ashton</td>\n      <td>1008320</td>\n      <td>100.000000</td>\n      <td>99.659091</td>\n      <td>100</td>\n      <td>100.0</td>\n      <td>64.37</td>\n      <td>89.208727</td>\n      <td>A</td>\n    </tr>\n    <tr>\n      <th>11</th>\n      <td>Lopez</td>\n      <td>Cesar</td>\n      <td>1008529</td>\n      <td>97.076667</td>\n      <td>92.479091</td>\n      <td>100</td>\n      <td>100.0</td>\n      <td>77.01</td>\n      <td>90.262061</td>\n      <td>A</td>\n    </tr>\n    <tr>\n      <th>12</th>\n      <td>McEachin</td>\n      <td>Sean</td>\n      <td>989684</td>\n      <td>72.357778</td>\n      <td>55.896364</td>\n      <td>100</td>\n      <td>100.0</td>\n      <td>87.36</td>\n      <td>77.448465</td>\n      <td>B+</td>\n    </tr>\n    <tr>\n      <th>13</th>\n      <td>Murphy</td>\n      <td>Aidan</td>\n      <td>1016690</td>\n      <td>88.850000</td>\n      <td>78.990909</td>\n      <td>100</td>\n      <td>100.0</td>\n      <td>72.41</td>\n      <td>83.190273</td>\n      <td>A-</td>\n    </tr>\n    <tr>\n      <th>14</th>\n      <td>Newlin</td>\n      <td>Benjamin</td>\n      <td>1005166</td>\n      <td>69.423222</td>\n      <td>97.727273</td>\n      <td>94</td>\n      <td>100.0</td>\n      <td>74.71</td>\n      <td>85.015826</td>\n      <td>A-</td>\n    </tr>\n    <tr>\n      <th>15</th>\n      <td>Prochazka</td>\n      <td>Aidan</td>\n      <td>1008378</td>\n      <td>97.955556</td>\n      <td>98.924545</td>\n      <td>100</td>\n      <td>100.0</td>\n      <td>85.06</td>\n      <td>94.786475</td>\n      <td>A</td>\n    </tr>\n    <tr>\n      <th>16</th>\n      <td>Quach</td>\n      <td>Ngan</td>\n      <td>995424</td>\n      <td>100.000000</td>\n      <td>100.000000</td>\n      <td>100</td>\n      <td>100.0</td>\n      <td>77.01</td>\n      <td>93.103000</td>\n      <td>A</td>\n    </tr>\n    <tr>\n      <th>17</th>\n      <td>Quick</td>\n      <td>Kenny</td>\n      <td>1014317</td>\n      <td>100.000000</td>\n      <td>100.000000</td>\n      <td>94</td>\n      <td>100.0</td>\n      <td>73.56</td>\n      <td>91.468000</td>\n      <td>A</td>\n    </tr>\n    <tr>\n      <th>18</th>\n      <td>Rose</td>\n      <td>Will</td>\n      <td>996464</td>\n      <td>99.928889</td>\n      <td>76.610000</td>\n      <td>94</td>\n      <td>80.0</td>\n      <td>77.01</td>\n      <td>83.471778</td>\n      <td>A-</td>\n    </tr>\n    <tr>\n      <th>19</th>\n      <td>Rosen</td>\n      <td>Ethan</td>\n      <td>1007205</td>\n      <td>77.777778</td>\n      <td>87.750000</td>\n      <td>100</td>\n      <td>75.0</td>\n      <td>77.01</td>\n      <td>82.483556</td>\n      <td>A-</td>\n    </tr>\n    <tr>\n      <th>20</th>\n      <td>Sage</td>\n      <td>Evan</td>\n      <td>1005189</td>\n      <td>69.467778</td>\n      <td>53.583636</td>\n      <td>100</td>\n      <td>100.0</td>\n      <td>78.16</td>\n      <td>73.416646</td>\n      <td>B</td>\n    </tr>\n    <tr>\n      <th>21</th>\n      <td>Sanat</td>\n      <td>Evan</td>\n      <td>998015</td>\n      <td>100.000000</td>\n      <td>98.169091</td>\n      <td>84</td>\n      <td>100.0</td>\n      <td>68.97</td>\n      <td>88.541727</td>\n      <td>A</td>\n    </tr>\n    <tr>\n      <th>22</th>\n      <td>Simpson</td>\n      <td>Jillian</td>\n      <td>970813</td>\n      <td>99.716667</td>\n      <td>77.946000</td>\n      <td>100</td>\n      <td>100.0</td>\n      <td>74.71</td>\n      <td>85.740133</td>\n      <td>A-</td>\n    </tr>\n    <tr>\n      <th>23</th>\n      <td>Striano</td>\n      <td>Joshua</td>\n      <td>986842</td>\n      <td>100.000000</td>\n      <td>99.218182</td>\n      <td>100</td>\n      <td>100.0</td>\n      <td>78.16</td>\n      <td>93.213455</td>\n      <td>A</td>\n    </tr>\n    <tr>\n      <th>24</th>\n      <td>Voell</td>\n      <td>Titus</td>\n      <td>1012226</td>\n      <td>82.874444</td>\n      <td>99.115455</td>\n      <td>100</td>\n      <td>100.0</td>\n      <td>70.11</td>\n      <td>87.342525</td>\n      <td>A</td>\n    </tr>\n    <tr>\n      <th>25</th>\n      <td>Zannelli</td>\n      <td>Alexander</td>\n      <td>986084</td>\n      <td>93.674444</td>\n      <td>81.818182</td>\n      <td>100</td>\n      <td>100.0</td>\n      <td>97.70</td>\n      <td>92.590343</td>\n      <td>A</td>\n    </tr>\n  </tbody>\n</table>\n</div>"
     },
     "execution_count": 3,
     "metadata": {},
     "output_type": "execute_result"
    }
   ],
   "source": [
    "df_final = df.iloc[:, [0,1,3,30,29,8,14,26,31]]\n",
    "df_final['Final Letter Grade'] = pd.cut(df_final['Final Numerical Grade'], bins=[0, 49.5, 53.0, 57.0, 59.5, 63.0, 67.0, 69.5, 73.0, 77.0, 79.5, 86.5, 100], labels= ['F', 'D-', 'D', 'D+', 'C-', 'C', 'C+',  'B-', 'B', 'B+', 'A-', 'A'])\n",
    "df_final"
   ]
  },
  {
   "cell_type": "code",
   "execution_count": 4,
   "metadata": {
    "ExecuteTime": {
     "end_time": "2023-12-10T00:03:47.129002Z",
     "start_time": "2023-12-10T00:03:47.103049Z"
    }
   },
   "outputs": [],
   "source": [
    "df_final.to_csv('CPSC256_Grades_Fall2023_Final.csv', index=False)"
   ]
  },
  {
   "cell_type": "code",
   "execution_count": 4,
   "outputs": [],
   "source": [],
   "metadata": {
    "collapsed": false,
    "ExecuteTime": {
     "end_time": "2023-12-10T00:03:47.129506Z",
     "start_time": "2023-12-10T00:03:47.112939Z"
    }
   }
  }
 ],
 "metadata": {
  "kernelspec": {
   "display_name": "Python 3",
   "language": "python",
   "name": "python3"
  },
  "language_info": {
   "codemirror_mode": {
    "name": "ipython",
    "version": 3
   },
   "file_extension": ".py",
   "mimetype": "text/x-python",
   "name": "python",
   "nbconvert_exporter": "python",
   "pygments_lexer": "ipython3",
   "version": "3.6.8"
  }
 },
 "nbformat": 4,
 "nbformat_minor": 4
}
